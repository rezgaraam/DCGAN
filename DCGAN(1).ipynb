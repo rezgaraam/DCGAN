{
  "metadata": {
    "kernelspec": {
      "display_name": "Python 3",
      "name": "python3"
    },
    "language_info": {
      "name": "python",
      "version": "3.10.12",
      "mimetype": "text/x-python",
      "codemirror_mode": {
        "name": "ipython",
        "version": 3
      },
      "pygments_lexer": "ipython3",
      "nbconvert_exporter": "python",
      "file_extension": ".py"
    },
    "kaggle": {
      "accelerator": "none",
      "dataSources": [],
      "dockerImageVersionId": 30839,
      "isInternetEnabled": true,
      "language": "python",
      "sourceType": "notebook",
      "isGpuEnabled": false
    },
    "colab": {
      "provenance": [],
      "gpuType": "T4"
    },
    "accelerator": "GPU"
  },
  "nbformat_minor": 0,
  "nbformat": 4,
  "cells": [
    {
      "cell_type": "code",
      "source": [
        "import warnings\n",
        "warnings.filterwarnings('ignore')"
      ],
      "metadata": {
        "id": "7TgdPFXtER95"
      },
      "execution_count": 20,
      "outputs": []
    },
    {
      "cell_type": "code",
      "source": [
        "import tensorflow as tf\n",
        "from tensorflow.keras import layers, Model, datasets\n",
        "import numpy as np\n",
        "import matplotlib.pyplot as plt\n",
        "import os\n",
        "from datetime import datetime\n",
        "\n",
        "# Configuration\n",
        "latent_dim = 128\n",
        "batch_size = 64\n",
        "epochs = 600\n",
        "img_shape = (32, 32, 3)\n",
        "save_interval = 3  # Save images every 3 epochs"
      ],
      "metadata": {
        "_uuid": "8f2839f25d086af736a60e9eeb907d3b93b6e0e5",
        "_cell_guid": "b1076dfc-b9ad-4769-8c92-a6c4dae69d19",
        "trusted": true,
        "execution": {
          "iopub.status.busy": "2025-02-20T13:54:59.938372Z",
          "iopub.execute_input": "2025-02-20T13:54:59.938790Z",
          "iopub.status.idle": "2025-02-20T13:55:17.561192Z",
          "shell.execute_reply.started": "2025-02-20T13:54:59.938757Z",
          "shell.execute_reply": "2025-02-20T13:55:17.560180Z"
        },
        "id": "vX4cXYj_zVHE"
      },
      "outputs": [],
      "execution_count": 21
    },
    {
      "cell_type": "code",
      "source": [
        "from google.colab import drive\n",
        "drive.mount('/content/drive')"
      ],
      "metadata": {
        "id": "Vy4ap6qPfJuO",
        "colab": {
          "base_uri": "https://localhost:8080/"
        },
        "outputId": "b82ee754-3146-41ea-ce98-2cdd6c6475bc"
      },
      "execution_count": 22,
      "outputs": [
        {
          "output_type": "stream",
          "name": "stdout",
          "text": [
            "Drive already mounted at /content/drive; to attempt to forcibly remount, call drive.mount(\"/content/drive\", force_remount=True).\n"
          ]
        }
      ]
    },
    {
      "cell_type": "code",
      "source": [
        "# Create output directories\n",
        "os.makedirs('gan_images', exist_ok=True)\n",
        "os.makedirs('saved_models', exist_ok=True)\n",
        "\n",
        "# Load and preprocess CIFAR-10 (cats only)\n",
        "(x_train, y_train), (_, _) = datasets.cifar10.load_data()\n",
        "x_train = x_train[y_train.flatten() == 3]  # Class 3 = cats\n",
        "x_train = (x_train.astype('float32') - 127.5) / 127.5  # Normalize to [-1, 1]\n",
        "\n",
        "# Data pipeline\n",
        "dataset = tf.data.Dataset.from_tensor_slices(x_train)\n",
        "dataset = dataset.shuffle(5000).batch(batch_size).prefetch(tf.data.AUTOTUNE)\n"
      ],
      "metadata": {
        "trusted": true,
        "execution": {
          "iopub.status.busy": "2025-02-20T13:55:21.354145Z",
          "iopub.execute_input": "2025-02-20T13:55:21.354800Z",
          "iopub.status.idle": "2025-02-20T13:55:26.875307Z",
          "shell.execute_reply.started": "2025-02-20T13:55:21.354769Z",
          "shell.execute_reply": "2025-02-20T13:55:26.874215Z"
        },
        "id": "ZhE475CezVHF"
      },
      "outputs": [],
      "execution_count": 23
    },
    {
      "cell_type": "code",
      "source": [
        "# Generator Model\n",
        "def build_generator():\n",
        "    model = tf.keras.Sequential([\n",
        "        layers.Dense(8*8*256, use_bias=False, input_dim=latent_dim),\n",
        "        layers.BatchNormalization(),\n",
        "        layers.ReLU(),\n",
        "\n",
        "        layers.Reshape((8, 8, 256)),\n",
        "\n",
        "        layers.Conv2DTranspose(128, 4, strides=2, padding='same', use_bias=False),\n",
        "        layers.BatchNormalization(),\n",
        "        layers.ReLU(),\n",
        "\n",
        "        layers.Conv2DTranspose(64, 4, strides=2, padding='same', use_bias=False),\n",
        "        layers.BatchNormalization(),\n",
        "        layers.ReLU(),\n",
        "\n",
        "        layers.Conv2DTranspose(3, 4, strides=1, padding='same', activation='tanh')\n",
        "    ])\n",
        "    return model\n",
        "\n",
        "# Discriminator Model\n",
        "def build_discriminator():\n",
        "    model = tf.keras.Sequential([\n",
        "        layers.Conv2D(64, 4, strides=2, padding='same', input_shape=img_shape),\n",
        "        layers.LeakyReLU(0.2),\n",
        "        layers.Dropout(0.3),\n",
        "\n",
        "        layers.Conv2D(128, 4, strides=2, padding='same'),\n",
        "        layers.LeakyReLU(0.2),\n",
        "        layers.Dropout(0.3),\n",
        "\n",
        "        layers.Conv2D(256, 4, strides=2, padding='same'),\n",
        "        layers.LeakyReLU(0.2),\n",
        "        layers.Dropout(0.3),\n",
        "\n",
        "        layers.Flatten(),\n",
        "        layers.Dense(1, activation='sigmoid')\n",
        "    ])\n",
        "    return model\n"
      ],
      "metadata": {
        "trusted": true,
        "execution": {
          "iopub.status.busy": "2025-02-20T13:55:30.835919Z",
          "iopub.execute_input": "2025-02-20T13:55:30.836371Z",
          "iopub.status.idle": "2025-02-20T13:55:30.844949Z",
          "shell.execute_reply.started": "2025-02-20T13:55:30.836334Z",
          "shell.execute_reply": "2025-02-20T13:55:30.843299Z"
        },
        "id": "I0jIiDRazVHG"
      },
      "outputs": [],
      "execution_count": 24
    },
    {
      "cell_type": "code",
      "source": [
        "# Build models\n",
        "generator = build_generator()\n",
        "discriminator = build_discriminator()\n",
        "\n",
        "# Optimizers\n",
        "g_optimizer = tf.keras.optimizers.Adam(0.0002, beta_1=0.5)\n",
        "d_optimizer = tf.keras.optimizers.Adam(0.0002, beta_1=0.5)\n",
        "\n",
        "# Loss function\n",
        "cross_entropy = tf.keras.losses.BinaryCrossentropy()\n",
        "\n",
        "def d_loss(real_output, fake_output):\n",
        "    real_loss = cross_entropy(tf.ones_like(real_output), real_output)\n",
        "    fake_loss = cross_entropy(tf.zeros_like(fake_output), fake_output)\n",
        "    return real_loss + fake_loss\n",
        "\n",
        "def g_loss(fake_output):\n",
        "    return cross_entropy(tf.ones_like(fake_output), fake_output)\n"
      ],
      "metadata": {
        "trusted": true,
        "execution": {
          "iopub.status.busy": "2025-02-20T13:55:34.987487Z",
          "iopub.execute_input": "2025-02-20T13:55:34.987815Z",
          "iopub.status.idle": "2025-02-20T13:55:35.194633Z",
          "shell.execute_reply.started": "2025-02-20T13:55:34.987791Z",
          "shell.execute_reply": "2025-02-20T13:55:35.193593Z"
        },
        "id": "4knHN-fgzVHG"
      },
      "outputs": [],
      "execution_count": 25
    },
    {
      "cell_type": "code",
      "source": [
        "# Training step\n",
        "@tf.function\n",
        "def train_step(images):\n",
        "    noise = tf.random.normal([batch_size, latent_dim])\n",
        "\n",
        "    with tf.GradientTape() as g_tape, tf.GradientTape() as d_tape:\n",
        "        generated = generator(noise, training=True)\n",
        "\n",
        "        real_output = discriminator(images, training=True)\n",
        "        fake_output = discriminator(generated, training=True)\n",
        "\n",
        "        d_loss_value = d_loss(real_output, fake_output)\n",
        "        g_loss_value = g_loss(fake_output)\n",
        "\n",
        "    d_grads = d_tape.gradient(d_loss_value, discriminator.trainable_variables)\n",
        "    g_grads = g_tape.gradient(g_loss_value, generator.trainable_variables)\n",
        "\n",
        "    d_optimizer.apply_gradients(zip(d_grads, discriminator.trainable_variables))\n",
        "    g_optimizer.apply_gradients(zip(g_grads, generator.trainable_variables))\n",
        "\n",
        "    return d_loss_value, g_loss_value\n"
      ],
      "metadata": {
        "trusted": true,
        "execution": {
          "iopub.status.busy": "2025-02-20T13:55:39.408600Z",
          "iopub.execute_input": "2025-02-20T13:55:39.408926Z",
          "iopub.status.idle": "2025-02-20T13:55:39.416220Z",
          "shell.execute_reply.started": "2025-02-20T13:55:39.408902Z",
          "shell.execute_reply": "2025-02-20T13:55:39.414879Z"
        },
        "id": "t780Oe3EzVHH"
      },
      "outputs": [],
      "execution_count": 26
    },
    {
      "cell_type": "code",
      "source": [
        "# Image generation utility\n",
        "def generate_and_save_images(model, epoch, test_input):\n",
        "    predictions = model(test_input, training=False)\n",
        "    predictions = (predictions * 127.5 + 127.5).numpy().astype('uint8')\n",
        "\n",
        "    plt.figure(figsize=(10, 10))\n",
        "    for i in range(16):\n",
        "        plt.subplot(4, 4, i+1)\n",
        "        plt.imshow(predictions[i])\n",
        "        plt.axis('off')\n",
        "\n",
        "    plt.savefig(f'gan_images/epoch_{epoch:04d}.png')\n",
        "    plt.close()\n",
        "\n",
        "# Training loop\n",
        "fixed_seed = tf.random.normal([16, latent_dim])  # For consistent samples\n"
      ],
      "metadata": {
        "trusted": true,
        "execution": {
          "iopub.status.busy": "2025-02-20T13:55:42.649522Z",
          "iopub.execute_input": "2025-02-20T13:55:42.649861Z",
          "iopub.status.idle": "2025-02-20T13:55:42.658674Z",
          "shell.execute_reply.started": "2025-02-20T13:55:42.649835Z",
          "shell.execute_reply": "2025-02-20T13:55:42.657292Z"
        },
        "id": "yy7wh6LRzVHH"
      },
      "outputs": [],
      "execution_count": 27
    },
    {
      "cell_type": "code",
      "source": [
        "for epoch in range(epochs):\n",
        "    start = datetime.now()\n",
        "\n",
        "    # Training\n",
        "    for batch in dataset:\n",
        "        d_loss_value, g_loss_value = train_step(batch)\n",
        "\n",
        "    # Save models\n",
        "    if (epoch + 1) % 10 == 0:\n",
        "        generator.save(f'saved_models/generator_epoch_{epoch+1}.h5')\n",
        "        discriminator.save(f'saved_models/discriminator_epoch_{epoch+1}.h5')\n",
        "\n",
        "    # Generate images\n",
        "    if (epoch + 1) % save_interval == 0:\n",
        "        generate_and_save_images(generator, epoch + 1, fixed_seed)\n",
        "\n",
        "    # Print progress\n",
        "    print(f'Epoch {epoch+1}/{epochs} [D loss: {d_loss_value:.4f}] [G loss: {g_loss_value:.4f}] Time: {datetime.now()-start}')\n",
        "\n",
        "# Final save\n",
        "generator.save('saved_models/generator_final.h5')\n",
        "discriminator.save('saved_models/discriminator_final.h5')\n",
        "\n",
        "# Generate sample grid after training\n",
        "generate_and_save_images(generator, epochs, fixed_seed)"
      ],
      "metadata": {
        "trusted": true,
        "execution": {
          "iopub.status.busy": "2025-02-20T13:55:57.751363Z",
          "iopub.execute_input": "2025-02-20T13:55:57.751719Z"
        },
        "colab": {
          "base_uri": "https://localhost:8080/"
        },
        "id": "x2fiUm1kzVHI",
        "outputId": "2a71f26f-27e6-44f0-9940-13e2bc6ee98c"
      },
      "outputs": [
        {
          "output_type": "stream",
          "name": "stdout",
          "text": [
            "Epoch 1/600 [D loss: 0.0415] [G loss: 6.8801] Time: 0:00:07.047766\n",
            "Epoch 2/600 [D loss: 0.8243] [G loss: 3.1368] Time: 0:00:02.371804\n",
            "Epoch 3/600 [D loss: 0.8552] [G loss: 1.3015] Time: 0:00:03.112746\n",
            "Epoch 4/600 [D loss: 0.6825] [G loss: 1.8303] Time: 0:00:02.201003\n",
            "Epoch 5/600 [D loss: 0.7702] [G loss: 1.3162] Time: 0:00:02.186020\n",
            "Epoch 6/600 [D loss: 1.2885] [G loss: 0.9790] Time: 0:00:02.380813\n",
            "Epoch 7/600 [D loss: 0.8792] [G loss: 1.0768] Time: 0:00:02.192363\n",
            "Epoch 8/600 [D loss: 0.9792] [G loss: 1.2639] Time: 0:00:02.202914\n",
            "Epoch 9/600 [D loss: 1.8270] [G loss: 0.7646] Time: 0:00:02.403732\n"
          ]
        },
        {
          "output_type": "stream",
          "name": "stderr",
          "text": [
            "WARNING:absl:You are saving your model as an HDF5 file via `model.save()` or `keras.saving.save_model(model)`. This file format is considered legacy. We recommend using instead the native Keras format, e.g. `model.save('my_model.keras')` or `keras.saving.save_model(model, 'my_model.keras')`. \n",
            "WARNING:absl:You are saving your model as an HDF5 file via `model.save()` or `keras.saving.save_model(model)`. This file format is considered legacy. We recommend using instead the native Keras format, e.g. `model.save('my_model.keras')` or `keras.saving.save_model(model, 'my_model.keras')`. \n"
          ]
        },
        {
          "output_type": "stream",
          "name": "stdout",
          "text": [
            "Epoch 10/600 [D loss: 1.1939] [G loss: 0.7557] Time: 0:00:02.260032\n",
            "Epoch 11/600 [D loss: 1.3806] [G loss: 0.8650] Time: 0:00:02.212500\n",
            "Epoch 12/600 [D loss: 1.4450] [G loss: 0.8180] Time: 0:00:02.417729\n",
            "Epoch 13/600 [D loss: 1.3667] [G loss: 0.8723] Time: 0:00:02.220453\n",
            "Epoch 14/600 [D loss: 1.3526] [G loss: 0.8127] Time: 0:00:02.222897\n",
            "Epoch 15/600 [D loss: 1.5291] [G loss: 0.6502] Time: 0:00:02.420592\n",
            "Epoch 16/600 [D loss: 1.3093] [G loss: 0.6344] Time: 0:00:02.235005\n",
            "Epoch 17/600 [D loss: 1.4093] [G loss: 0.6849] Time: 0:00:02.241172\n",
            "Epoch 18/600 [D loss: 1.5421] [G loss: 0.5985] Time: 0:00:02.446218\n",
            "Epoch 19/600 [D loss: 1.5571] [G loss: 0.6626] Time: 0:00:02.246096\n"
          ]
        },
        {
          "output_type": "stream",
          "name": "stderr",
          "text": [
            "WARNING:absl:You are saving your model as an HDF5 file via `model.save()` or `keras.saving.save_model(model)`. This file format is considered legacy. We recommend using instead the native Keras format, e.g. `model.save('my_model.keras')` or `keras.saving.save_model(model, 'my_model.keras')`. \n",
            "WARNING:absl:You are saving your model as an HDF5 file via `model.save()` or `keras.saving.save_model(model)`. This file format is considered legacy. We recommend using instead the native Keras format, e.g. `model.save('my_model.keras')` or `keras.saving.save_model(model, 'my_model.keras')`. \n"
          ]
        },
        {
          "output_type": "stream",
          "name": "stdout",
          "text": [
            "Epoch 20/600 [D loss: 1.3402] [G loss: 0.6996] Time: 0:00:02.314662\n",
            "Epoch 21/600 [D loss: 1.3906] [G loss: 0.7259] Time: 0:00:02.459265\n",
            "Epoch 22/600 [D loss: 1.2374] [G loss: 0.7943] Time: 0:00:02.271830\n",
            "Epoch 23/600 [D loss: 1.4291] [G loss: 0.8218] Time: 0:00:02.277589\n",
            "Epoch 24/600 [D loss: 1.2096] [G loss: 0.7772] Time: 0:00:02.595107\n",
            "Epoch 25/600 [D loss: 1.3357] [G loss: 0.6648] Time: 0:00:02.288935\n",
            "Epoch 26/600 [D loss: 1.2496] [G loss: 0.7116] Time: 0:00:02.297354\n",
            "Epoch 27/600 [D loss: 1.3730] [G loss: 0.6029] Time: 0:00:02.508660\n",
            "Epoch 28/600 [D loss: 1.1083] [G loss: 0.7801] Time: 0:00:02.302876\n",
            "Epoch 29/600 [D loss: 1.2586] [G loss: 0.6439] Time: 0:00:02.308482\n"
          ]
        },
        {
          "output_type": "stream",
          "name": "stderr",
          "text": [
            "WARNING:absl:You are saving your model as an HDF5 file via `model.save()` or `keras.saving.save_model(model)`. This file format is considered legacy. We recommend using instead the native Keras format, e.g. `model.save('my_model.keras')` or `keras.saving.save_model(model, 'my_model.keras')`. \n",
            "WARNING:absl:You are saving your model as an HDF5 file via `model.save()` or `keras.saving.save_model(model)`. This file format is considered legacy. We recommend using instead the native Keras format, e.g. `model.save('my_model.keras')` or `keras.saving.save_model(model, 'my_model.keras')`. \n"
          ]
        },
        {
          "output_type": "stream",
          "name": "stdout",
          "text": [
            "Epoch 30/600 [D loss: 1.2861] [G loss: 0.8214] Time: 0:00:02.691867\n",
            "Epoch 31/600 [D loss: 1.3481] [G loss: 0.9065] Time: 0:00:02.313668\n",
            "Epoch 32/600 [D loss: 1.2623] [G loss: 0.7561] Time: 0:00:02.320692\n",
            "Epoch 33/600 [D loss: 1.3795] [G loss: 0.6758] Time: 0:00:02.520942\n",
            "Epoch 34/600 [D loss: 1.2511] [G loss: 0.7265] Time: 0:00:02.329520\n",
            "Epoch 35/600 [D loss: 1.1293] [G loss: 1.0438] Time: 0:00:02.327508\n",
            "Epoch 36/600 [D loss: 1.2868] [G loss: 0.6578] Time: 0:00:02.540685\n",
            "Epoch 37/600 [D loss: 1.2642] [G loss: 1.0491] Time: 0:00:02.339589\n",
            "Epoch 38/600 [D loss: 0.8816] [G loss: 1.3049] Time: 0:00:02.342435\n",
            "Epoch 39/600 [D loss: 1.3320] [G loss: 0.6494] Time: 0:00:02.542342\n"
          ]
        },
        {
          "output_type": "stream",
          "name": "stderr",
          "text": [
            "WARNING:absl:You are saving your model as an HDF5 file via `model.save()` or `keras.saving.save_model(model)`. This file format is considered legacy. We recommend using instead the native Keras format, e.g. `model.save('my_model.keras')` or `keras.saving.save_model(model, 'my_model.keras')`. \n",
            "WARNING:absl:You are saving your model as an HDF5 file via `model.save()` or `keras.saving.save_model(model)`. This file format is considered legacy. We recommend using instead the native Keras format, e.g. `model.save('my_model.keras')` or `keras.saving.save_model(model, 'my_model.keras')`. \n"
          ]
        },
        {
          "output_type": "stream",
          "name": "stdout",
          "text": [
            "Epoch 40/600 [D loss: 1.1335] [G loss: 1.1012] Time: 0:00:02.426891\n",
            "Epoch 41/600 [D loss: 1.2326] [G loss: 0.7051] Time: 0:00:02.342686\n",
            "Epoch 42/600 [D loss: 1.6331] [G loss: 0.8722] Time: 0:00:02.532831\n",
            "Epoch 43/600 [D loss: 1.0994] [G loss: 0.8176] Time: 0:00:02.344659\n",
            "Epoch 44/600 [D loss: 1.3600] [G loss: 0.7292] Time: 0:00:02.341930\n",
            "Epoch 45/600 [D loss: 1.2820] [G loss: 0.7220] Time: 0:00:02.534015\n",
            "Epoch 46/600 [D loss: 1.1392] [G loss: 0.8879] Time: 0:00:02.335933\n",
            "Epoch 47/600 [D loss: 1.5172] [G loss: 0.8337] Time: 0:00:02.341775\n",
            "Epoch 48/600 [D loss: 1.2058] [G loss: 0.8173] Time: 0:00:02.532734\n",
            "Epoch 49/600 [D loss: 1.0609] [G loss: 0.8973] Time: 0:00:02.341710\n"
          ]
        },
        {
          "output_type": "stream",
          "name": "stderr",
          "text": [
            "WARNING:absl:You are saving your model as an HDF5 file via `model.save()` or `keras.saving.save_model(model)`. This file format is considered legacy. We recommend using instead the native Keras format, e.g. `model.save('my_model.keras')` or `keras.saving.save_model(model, 'my_model.keras')`. \n",
            "WARNING:absl:You are saving your model as an HDF5 file via `model.save()` or `keras.saving.save_model(model)`. This file format is considered legacy. We recommend using instead the native Keras format, e.g. `model.save('my_model.keras')` or `keras.saving.save_model(model, 'my_model.keras')`. \n"
          ]
        },
        {
          "output_type": "stream",
          "name": "stdout",
          "text": [
            "Epoch 50/600 [D loss: 1.5498] [G loss: 0.5947] Time: 0:00:02.390578\n",
            "Epoch 51/600 [D loss: 1.3597] [G loss: 0.7214] Time: 0:00:02.604825\n",
            "Epoch 52/600 [D loss: 1.1742] [G loss: 0.8428] Time: 0:00:02.334038\n",
            "Epoch 53/600 [D loss: 1.1197] [G loss: 0.8337] Time: 0:00:02.335329\n",
            "Epoch 54/600 [D loss: 1.2744] [G loss: 0.7911] Time: 0:00:02.525038\n",
            "Epoch 55/600 [D loss: 1.3013] [G loss: 0.7218] Time: 0:00:02.327565\n",
            "Epoch 56/600 [D loss: 1.5042] [G loss: 0.7843] Time: 0:00:02.333275\n",
            "Epoch 57/600 [D loss: 1.4029] [G loss: 0.7942] Time: 0:00:02.622579\n",
            "Epoch 58/600 [D loss: 1.5430] [G loss: 0.7510] Time: 0:00:02.335860\n",
            "Epoch 59/600 [D loss: 0.9427] [G loss: 0.9692] Time: 0:00:02.332475\n"
          ]
        },
        {
          "output_type": "stream",
          "name": "stderr",
          "text": [
            "WARNING:absl:You are saving your model as an HDF5 file via `model.save()` or `keras.saving.save_model(model)`. This file format is considered legacy. We recommend using instead the native Keras format, e.g. `model.save('my_model.keras')` or `keras.saving.save_model(model, 'my_model.keras')`. \n",
            "WARNING:absl:You are saving your model as an HDF5 file via `model.save()` or `keras.saving.save_model(model)`. This file format is considered legacy. We recommend using instead the native Keras format, e.g. `model.save('my_model.keras')` or `keras.saving.save_model(model, 'my_model.keras')`. \n"
          ]
        },
        {
          "output_type": "stream",
          "name": "stdout",
          "text": [
            "Epoch 60/600 [D loss: 1.2254] [G loss: 0.8277] Time: 0:00:02.592446\n",
            "Epoch 61/600 [D loss: 1.4913] [G loss: 0.7881] Time: 0:00:02.332315\n",
            "Epoch 62/600 [D loss: 1.0165] [G loss: 0.8484] Time: 0:00:02.333731\n",
            "Epoch 63/600 [D loss: 1.8294] [G loss: 0.7389] Time: 0:00:02.523646\n",
            "Epoch 64/600 [D loss: 1.2840] [G loss: 0.8037] Time: 0:00:02.328063\n",
            "Epoch 65/600 [D loss: 1.1805] [G loss: 0.8829] Time: 0:00:02.332721\n",
            "Epoch 66/600 [D loss: 1.3520] [G loss: 0.7991] Time: 0:00:02.520400\n",
            "Epoch 67/600 [D loss: 1.3321] [G loss: 0.8069] Time: 0:00:02.334328\n",
            "Epoch 68/600 [D loss: 1.2122] [G loss: 0.8478] Time: 0:00:02.352757\n",
            "Epoch 69/600 [D loss: 1.2635] [G loss: 0.8590] Time: 0:00:07.129525\n"
          ]
        },
        {
          "output_type": "stream",
          "name": "stderr",
          "text": [
            "WARNING:absl:You are saving your model as an HDF5 file via `model.save()` or `keras.saving.save_model(model)`. This file format is considered legacy. We recommend using instead the native Keras format, e.g. `model.save('my_model.keras')` or `keras.saving.save_model(model, 'my_model.keras')`. \n",
            "WARNING:absl:You are saving your model as an HDF5 file via `model.save()` or `keras.saving.save_model(model)`. This file format is considered legacy. We recommend using instead the native Keras format, e.g. `model.save('my_model.keras')` or `keras.saving.save_model(model, 'my_model.keras')`. \n"
          ]
        },
        {
          "output_type": "stream",
          "name": "stdout",
          "text": [
            "Epoch 70/600 [D loss: 1.2610] [G loss: 0.7761] Time: 0:00:02.434170\n",
            "Epoch 71/600 [D loss: 1.3675] [G loss: 0.8527] Time: 0:00:02.319027\n",
            "Epoch 72/600 [D loss: 1.2104] [G loss: 0.7842] Time: 0:00:02.511498\n",
            "Epoch 73/600 [D loss: 1.4631] [G loss: 0.6211] Time: 0:00:02.325950\n",
            "Epoch 74/600 [D loss: 1.2394] [G loss: 0.5904] Time: 0:00:02.331326\n",
            "Epoch 75/600 [D loss: 1.3675] [G loss: 0.7386] Time: 0:00:02.531246\n",
            "Epoch 76/600 [D loss: 1.4394] [G loss: 0.7322] Time: 0:00:02.344278\n",
            "Epoch 77/600 [D loss: 1.4253] [G loss: 0.7784] Time: 0:00:02.349489\n",
            "Epoch 78/600 [D loss: 1.4789] [G loss: 0.7270] Time: 0:00:02.569761\n",
            "Epoch 79/600 [D loss: 1.2782] [G loss: 0.8037] Time: 0:00:02.354134\n"
          ]
        },
        {
          "output_type": "stream",
          "name": "stderr",
          "text": [
            "WARNING:absl:You are saving your model as an HDF5 file via `model.save()` or `keras.saving.save_model(model)`. This file format is considered legacy. We recommend using instead the native Keras format, e.g. `model.save('my_model.keras')` or `keras.saving.save_model(model, 'my_model.keras')`. \n",
            "WARNING:absl:You are saving your model as an HDF5 file via `model.save()` or `keras.saving.save_model(model)`. This file format is considered legacy. We recommend using instead the native Keras format, e.g. `model.save('my_model.keras')` or `keras.saving.save_model(model, 'my_model.keras')`. \n"
          ]
        },
        {
          "output_type": "stream",
          "name": "stdout",
          "text": [
            "Epoch 80/600 [D loss: 1.3128] [G loss: 0.8006] Time: 0:00:02.424820\n",
            "Epoch 81/600 [D loss: 1.3728] [G loss: 0.7466] Time: 0:00:02.547845\n",
            "Epoch 82/600 [D loss: 1.3088] [G loss: 0.8290] Time: 0:00:02.353458\n",
            "Epoch 83/600 [D loss: 1.3148] [G loss: 0.7433] Time: 0:00:02.354632\n",
            "Epoch 84/600 [D loss: 1.3902] [G loss: 0.7686] Time: 0:00:02.541113\n",
            "Epoch 85/600 [D loss: 1.0626] [G loss: 0.8397] Time: 0:00:02.347451\n",
            "Epoch 86/600 [D loss: 1.2177] [G loss: 0.8685] Time: 0:00:02.342518\n",
            "Epoch 87/600 [D loss: 1.2382] [G loss: 0.8177] Time: 0:00:02.639982\n",
            "Epoch 88/600 [D loss: 1.4866] [G loss: 0.8242] Time: 0:00:02.339202\n",
            "Epoch 89/600 [D loss: 1.2626] [G loss: 0.8319] Time: 0:00:02.336553\n"
          ]
        },
        {
          "output_type": "stream",
          "name": "stderr",
          "text": [
            "WARNING:absl:You are saving your model as an HDF5 file via `model.save()` or `keras.saving.save_model(model)`. This file format is considered legacy. We recommend using instead the native Keras format, e.g. `model.save('my_model.keras')` or `keras.saving.save_model(model, 'my_model.keras')`. \n",
            "WARNING:absl:You are saving your model as an HDF5 file via `model.save()` or `keras.saving.save_model(model)`. This file format is considered legacy. We recommend using instead the native Keras format, e.g. `model.save('my_model.keras')` or `keras.saving.save_model(model, 'my_model.keras')`. \n"
          ]
        },
        {
          "output_type": "stream",
          "name": "stdout",
          "text": [
            "Epoch 90/600 [D loss: 1.2196] [G loss: 0.7442] Time: 0:00:02.590978\n",
            "Epoch 91/600 [D loss: 1.4765] [G loss: 0.8414] Time: 0:00:02.329723\n",
            "Epoch 92/600 [D loss: 1.1740] [G loss: 0.9062] Time: 0:00:02.333994\n",
            "Epoch 93/600 [D loss: 1.2721] [G loss: 0.8674] Time: 0:00:02.635466\n",
            "Epoch 94/600 [D loss: 1.5097] [G loss: 0.5545] Time: 0:00:02.327954\n",
            "Epoch 95/600 [D loss: 1.1628] [G loss: 0.7838] Time: 0:00:02.331423\n",
            "Epoch 96/600 [D loss: 1.3600] [G loss: 0.8524] Time: 0:00:02.516528\n",
            "Epoch 97/600 [D loss: 1.0422] [G loss: 1.0588] Time: 0:00:02.322706\n",
            "Epoch 98/600 [D loss: 1.1605] [G loss: 0.8261] Time: 0:00:02.326567\n",
            "Epoch 99/600 [D loss: 0.8767] [G loss: 1.0556] Time: 0:00:02.517987\n"
          ]
        },
        {
          "output_type": "stream",
          "name": "stderr",
          "text": [
            "WARNING:absl:You are saving your model as an HDF5 file via `model.save()` or `keras.saving.save_model(model)`. This file format is considered legacy. We recommend using instead the native Keras format, e.g. `model.save('my_model.keras')` or `keras.saving.save_model(model, 'my_model.keras')`. \n",
            "WARNING:absl:You are saving your model as an HDF5 file via `model.save()` or `keras.saving.save_model(model)`. This file format is considered legacy. We recommend using instead the native Keras format, e.g. `model.save('my_model.keras')` or `keras.saving.save_model(model, 'my_model.keras')`. \n"
          ]
        },
        {
          "output_type": "stream",
          "name": "stdout",
          "text": [
            "Epoch 100/600 [D loss: 0.5402] [G loss: 1.9757] Time: 0:00:02.383651\n",
            "Epoch 101/600 [D loss: 1.3015] [G loss: 0.6703] Time: 0:00:02.326011\n",
            "Epoch 102/600 [D loss: 1.1520] [G loss: 0.8139] Time: 0:00:02.516315\n",
            "Epoch 103/600 [D loss: 1.3720] [G loss: 1.0826] Time: 0:00:02.324288\n",
            "Epoch 104/600 [D loss: 1.2574] [G loss: 0.9159] Time: 0:00:02.330655\n",
            "Epoch 105/600 [D loss: 1.0060] [G loss: 0.9326] Time: 0:00:02.517456\n",
            "Epoch 106/600 [D loss: 1.5415] [G loss: 1.0717] Time: 0:00:02.323239\n",
            "Epoch 107/600 [D loss: 1.2807] [G loss: 0.8494] Time: 0:00:02.333942\n",
            "Epoch 108/600 [D loss: 1.3979] [G loss: 0.8688] Time: 0:00:03.341583\n",
            "Epoch 109/600 [D loss: 0.9665] [G loss: 0.9324] Time: 0:00:02.325166\n"
          ]
        },
        {
          "output_type": "stream",
          "name": "stderr",
          "text": [
            "WARNING:absl:You are saving your model as an HDF5 file via `model.save()` or `keras.saving.save_model(model)`. This file format is considered legacy. We recommend using instead the native Keras format, e.g. `model.save('my_model.keras')` or `keras.saving.save_model(model, 'my_model.keras')`. \n",
            "WARNING:absl:You are saving your model as an HDF5 file via `model.save()` or `keras.saving.save_model(model)`. This file format is considered legacy. We recommend using instead the native Keras format, e.g. `model.save('my_model.keras')` or `keras.saving.save_model(model, 'my_model.keras')`. \n"
          ]
        },
        {
          "output_type": "stream",
          "name": "stdout",
          "text": [
            "Epoch 110/600 [D loss: 1.1491] [G loss: 0.9104] Time: 0:00:02.397698\n",
            "Epoch 111/600 [D loss: 1.2442] [G loss: 0.8086] Time: 0:00:02.516064\n",
            "Epoch 112/600 [D loss: 1.2793] [G loss: 0.8226] Time: 0:00:02.329751\n",
            "Epoch 113/600 [D loss: 1.2963] [G loss: 0.8522] Time: 0:00:02.334799\n",
            "Epoch 114/600 [D loss: 1.2824] [G loss: 0.7328] Time: 0:00:02.605404\n",
            "Epoch 115/600 [D loss: 1.1576] [G loss: 0.8079] Time: 0:00:02.340823\n",
            "Epoch 116/600 [D loss: 1.0481] [G loss: 1.0256] Time: 0:00:02.338243\n",
            "Epoch 117/600 [D loss: 1.0818] [G loss: 0.8562] Time: 0:00:02.546387\n",
            "Epoch 118/600 [D loss: 1.2089] [G loss: 0.8914] Time: 0:00:02.340100\n",
            "Epoch 119/600 [D loss: 1.2189] [G loss: 0.8581] Time: 0:00:02.342224\n"
          ]
        },
        {
          "output_type": "stream",
          "name": "stderr",
          "text": [
            "WARNING:absl:You are saving your model as an HDF5 file via `model.save()` or `keras.saving.save_model(model)`. This file format is considered legacy. We recommend using instead the native Keras format, e.g. `model.save('my_model.keras')` or `keras.saving.save_model(model, 'my_model.keras')`. \n",
            "WARNING:absl:You are saving your model as an HDF5 file via `model.save()` or `keras.saving.save_model(model)`. This file format is considered legacy. We recommend using instead the native Keras format, e.g. `model.save('my_model.keras')` or `keras.saving.save_model(model, 'my_model.keras')`. \n"
          ]
        },
        {
          "output_type": "stream",
          "name": "stdout",
          "text": [
            "Epoch 120/600 [D loss: 1.3176] [G loss: 0.7952] Time: 0:00:02.596997\n",
            "Epoch 121/600 [D loss: 1.3391] [G loss: 0.7544] Time: 0:00:02.337363\n",
            "Epoch 122/600 [D loss: 1.0869] [G loss: 1.0073] Time: 0:00:02.344339\n",
            "Epoch 123/600 [D loss: 1.4107] [G loss: 0.7886] Time: 0:00:02.528648\n",
            "Epoch 124/600 [D loss: 1.2069] [G loss: 0.9062] Time: 0:00:02.343832\n",
            "Epoch 125/600 [D loss: 1.1910] [G loss: 0.8651] Time: 0:00:02.342755\n",
            "Epoch 126/600 [D loss: 1.0918] [G loss: 1.2836] Time: 0:00:02.526259\n",
            "Epoch 127/600 [D loss: 1.4081] [G loss: 0.9358] Time: 0:00:02.335989\n",
            "Epoch 128/600 [D loss: 1.3518] [G loss: 0.9677] Time: 0:00:02.342882\n",
            "Epoch 129/600 [D loss: 1.5597] [G loss: 0.8087] Time: 0:00:02.527246\n"
          ]
        },
        {
          "output_type": "stream",
          "name": "stderr",
          "text": [
            "WARNING:absl:You are saving your model as an HDF5 file via `model.save()` or `keras.saving.save_model(model)`. This file format is considered legacy. We recommend using instead the native Keras format, e.g. `model.save('my_model.keras')` or `keras.saving.save_model(model, 'my_model.keras')`. \n",
            "WARNING:absl:You are saving your model as an HDF5 file via `model.save()` or `keras.saving.save_model(model)`. This file format is considered legacy. We recommend using instead the native Keras format, e.g. `model.save('my_model.keras')` or `keras.saving.save_model(model, 'my_model.keras')`. \n"
          ]
        },
        {
          "output_type": "stream",
          "name": "stdout",
          "text": [
            "Epoch 130/600 [D loss: 1.3092] [G loss: 0.8792] Time: 0:00:02.413622\n",
            "Epoch 131/600 [D loss: 1.3886] [G loss: 0.8750] Time: 0:00:02.336342\n",
            "Epoch 132/600 [D loss: 1.3215] [G loss: 0.7802] Time: 0:00:02.540906\n",
            "Epoch 133/600 [D loss: 1.4458] [G loss: 0.8161] Time: 0:00:02.333072\n",
            "Epoch 134/600 [D loss: 1.2882] [G loss: 0.7468] Time: 0:00:02.330685\n",
            "Epoch 135/600 [D loss: 1.5005] [G loss: 0.8448] Time: 0:00:02.598008\n",
            "Epoch 136/600 [D loss: 1.4330] [G loss: 0.7601] Time: 0:00:02.322432\n",
            "Epoch 137/600 [D loss: 1.1814] [G loss: 0.8515] Time: 0:00:02.326293\n",
            "Epoch 138/600 [D loss: 1.1702] [G loss: 0.8804] Time: 0:00:02.506175\n",
            "Epoch 139/600 [D loss: 1.4523] [G loss: 0.7924] Time: 0:00:02.324805\n"
          ]
        },
        {
          "output_type": "stream",
          "name": "stderr",
          "text": [
            "WARNING:absl:You are saving your model as an HDF5 file via `model.save()` or `keras.saving.save_model(model)`. This file format is considered legacy. We recommend using instead the native Keras format, e.g. `model.save('my_model.keras')` or `keras.saving.save_model(model, 'my_model.keras')`. \n",
            "WARNING:absl:You are saving your model as an HDF5 file via `model.save()` or `keras.saving.save_model(model)`. This file format is considered legacy. We recommend using instead the native Keras format, e.g. `model.save('my_model.keras')` or `keras.saving.save_model(model, 'my_model.keras')`. \n"
          ]
        },
        {
          "output_type": "stream",
          "name": "stdout",
          "text": [
            "Epoch 140/600 [D loss: 1.5947] [G loss: 0.8054] Time: 0:00:02.411481\n",
            "Epoch 141/600 [D loss: 1.2989] [G loss: 0.7964] Time: 0:00:02.611417\n",
            "Epoch 142/600 [D loss: 0.9024] [G loss: 1.1539] Time: 0:00:02.328378\n",
            "Epoch 143/600 [D loss: 1.2289] [G loss: 0.7605] Time: 0:00:02.323033\n",
            "Epoch 144/600 [D loss: 1.2096] [G loss: 0.7951] Time: 0:00:02.530159\n",
            "Epoch 145/600 [D loss: 1.1879] [G loss: 0.8194] Time: 0:00:02.328455\n",
            "Epoch 146/600 [D loss: 1.4268] [G loss: 0.8035] Time: 0:00:02.327932\n",
            "Epoch 147/600 [D loss: 1.3760] [G loss: 0.7960] Time: 0:00:02.523106\n",
            "Epoch 148/600 [D loss: 1.2218] [G loss: 0.8255] Time: 0:00:02.322777\n",
            "Epoch 149/600 [D loss: 1.7991] [G loss: 0.4976] Time: 0:00:02.333578\n"
          ]
        },
        {
          "output_type": "stream",
          "name": "stderr",
          "text": [
            "WARNING:absl:You are saving your model as an HDF5 file via `model.save()` or `keras.saving.save_model(model)`. This file format is considered legacy. We recommend using instead the native Keras format, e.g. `model.save('my_model.keras')` or `keras.saving.save_model(model, 'my_model.keras')`. \n",
            "WARNING:absl:You are saving your model as an HDF5 file via `model.save()` or `keras.saving.save_model(model)`. This file format is considered legacy. We recommend using instead the native Keras format, e.g. `model.save('my_model.keras')` or `keras.saving.save_model(model, 'my_model.keras')`. \n"
          ]
        },
        {
          "output_type": "stream",
          "name": "stdout",
          "text": [
            "Epoch 150/600 [D loss: 1.3003] [G loss: 0.8532] Time: 0:00:02.616401\n",
            "Epoch 151/600 [D loss: 1.4022] [G loss: 0.7888] Time: 0:00:02.330411\n",
            "Epoch 152/600 [D loss: 1.2247] [G loss: 0.7934] Time: 0:00:02.341831\n",
            "Epoch 153/600 [D loss: 1.3196] [G loss: 0.8119] Time: 0:00:03.292490\n",
            "Epoch 154/600 [D loss: 1.3891] [G loss: 0.7120] Time: 0:00:02.336558\n",
            "Epoch 155/600 [D loss: 1.3514] [G loss: 0.6884] Time: 0:00:02.340198\n",
            "Epoch 156/600 [D loss: 1.1129] [G loss: 0.7752] Time: 0:00:02.620828\n",
            "Epoch 157/600 [D loss: 1.1876] [G loss: 0.8576] Time: 0:00:02.346739\n",
            "Epoch 158/600 [D loss: 1.4217] [G loss: 0.7931] Time: 0:00:02.348133\n",
            "Epoch 159/600 [D loss: 1.3033] [G loss: 0.8418] Time: 0:00:02.540830\n"
          ]
        },
        {
          "output_type": "stream",
          "name": "stderr",
          "text": [
            "WARNING:absl:You are saving your model as an HDF5 file via `model.save()` or `keras.saving.save_model(model)`. This file format is considered legacy. We recommend using instead the native Keras format, e.g. `model.save('my_model.keras')` or `keras.saving.save_model(model, 'my_model.keras')`. \n",
            "WARNING:absl:You are saving your model as an HDF5 file via `model.save()` or `keras.saving.save_model(model)`. This file format is considered legacy. We recommend using instead the native Keras format, e.g. `model.save('my_model.keras')` or `keras.saving.save_model(model, 'my_model.keras')`. \n"
          ]
        },
        {
          "output_type": "stream",
          "name": "stdout",
          "text": [
            "Epoch 160/600 [D loss: 1.3615] [G loss: 0.7990] Time: 0:00:02.401087\n",
            "Epoch 161/600 [D loss: 1.3802] [G loss: 0.7611] Time: 0:00:02.346712\n",
            "Epoch 162/600 [D loss: 1.2789] [G loss: 0.7719] Time: 0:00:02.641467\n",
            "Epoch 163/600 [D loss: 1.1767] [G loss: 0.8110] Time: 0:00:02.351581\n",
            "Epoch 164/600 [D loss: 1.2293] [G loss: 0.7437] Time: 0:00:02.347670\n",
            "Epoch 165/600 [D loss: 1.1797] [G loss: 0.8369] Time: 0:00:02.539795\n",
            "Epoch 166/600 [D loss: 1.1872] [G loss: 0.7803] Time: 0:00:02.341910\n",
            "Epoch 167/600 [D loss: 1.2963] [G loss: 0.7715] Time: 0:00:02.344111\n",
            "Epoch 168/600 [D loss: 1.3129] [G loss: 0.7918] Time: 0:00:02.551090\n",
            "Epoch 169/600 [D loss: 1.1873] [G loss: 0.8299] Time: 0:00:02.338023\n"
          ]
        },
        {
          "output_type": "stream",
          "name": "stderr",
          "text": [
            "WARNING:absl:You are saving your model as an HDF5 file via `model.save()` or `keras.saving.save_model(model)`. This file format is considered legacy. We recommend using instead the native Keras format, e.g. `model.save('my_model.keras')` or `keras.saving.save_model(model, 'my_model.keras')`. \n",
            "WARNING:absl:You are saving your model as an HDF5 file via `model.save()` or `keras.saving.save_model(model)`. This file format is considered legacy. We recommend using instead the native Keras format, e.g. `model.save('my_model.keras')` or `keras.saving.save_model(model, 'my_model.keras')`. \n"
          ]
        },
        {
          "output_type": "stream",
          "name": "stdout",
          "text": [
            "Epoch 170/600 [D loss: 1.2941] [G loss: 0.8140] Time: 0:00:02.394585\n",
            "Epoch 171/600 [D loss: 1.2663] [G loss: 0.8213] Time: 0:00:02.523749\n",
            "Epoch 172/600 [D loss: 1.1359] [G loss: 0.8159] Time: 0:00:02.325639\n",
            "Epoch 173/600 [D loss: 1.1623] [G loss: 0.8768] Time: 0:00:02.329770\n",
            "Epoch 174/600 [D loss: 1.3318] [G loss: 0.8009] Time: 0:00:02.537549\n",
            "Epoch 175/600 [D loss: 1.1747] [G loss: 0.7869] Time: 0:00:02.321164\n",
            "Epoch 176/600 [D loss: 1.3101] [G loss: 0.8523] Time: 0:00:02.323364\n",
            "Epoch 177/600 [D loss: 1.3459] [G loss: 0.8004] Time: 0:00:02.509034\n",
            "Epoch 178/600 [D loss: 1.2310] [G loss: 0.8676] Time: 0:00:02.314205\n",
            "Epoch 179/600 [D loss: 1.3569] [G loss: 0.8598] Time: 0:00:02.319607\n"
          ]
        },
        {
          "output_type": "stream",
          "name": "stderr",
          "text": [
            "WARNING:absl:You are saving your model as an HDF5 file via `model.save()` or `keras.saving.save_model(model)`. This file format is considered legacy. We recommend using instead the native Keras format, e.g. `model.save('my_model.keras')` or `keras.saving.save_model(model, 'my_model.keras')`. \n",
            "WARNING:absl:You are saving your model as an HDF5 file via `model.save()` or `keras.saving.save_model(model)`. This file format is considered legacy. We recommend using instead the native Keras format, e.g. `model.save('my_model.keras')` or `keras.saving.save_model(model, 'my_model.keras')`. \n"
          ]
        },
        {
          "output_type": "stream",
          "name": "stdout",
          "text": [
            "Epoch 180/600 [D loss: 1.3668] [G loss: 0.6623] Time: 0:00:02.576488\n",
            "Epoch 181/600 [D loss: 1.3045] [G loss: 0.7749] Time: 0:00:02.312333\n",
            "Epoch 182/600 [D loss: 1.3075] [G loss: 0.7530] Time: 0:00:02.314650\n",
            "Epoch 183/600 [D loss: 1.2754] [G loss: 0.8388] Time: 0:00:02.825678\n",
            "Epoch 184/600 [D loss: 1.1992] [G loss: 0.8176] Time: 0:00:02.317477\n",
            "Epoch 185/600 [D loss: 1.3478] [G loss: 0.8691] Time: 0:00:02.317886\n",
            "Epoch 186/600 [D loss: 1.0827] [G loss: 0.8879] Time: 0:00:02.512287\n",
            "Epoch 187/600 [D loss: 1.3475] [G loss: 0.7509] Time: 0:00:02.319314\n",
            "Epoch 188/600 [D loss: 1.3810] [G loss: 0.8794] Time: 0:00:02.328557\n",
            "Epoch 189/600 [D loss: 1.3095] [G loss: 0.8699] Time: 0:00:02.618310\n"
          ]
        },
        {
          "output_type": "stream",
          "name": "stderr",
          "text": [
            "WARNING:absl:You are saving your model as an HDF5 file via `model.save()` or `keras.saving.save_model(model)`. This file format is considered legacy. We recommend using instead the native Keras format, e.g. `model.save('my_model.keras')` or `keras.saving.save_model(model, 'my_model.keras')`. \n",
            "WARNING:absl:You are saving your model as an HDF5 file via `model.save()` or `keras.saving.save_model(model)`. This file format is considered legacy. We recommend using instead the native Keras format, e.g. `model.save('my_model.keras')` or `keras.saving.save_model(model, 'my_model.keras')`. \n"
          ]
        },
        {
          "output_type": "stream",
          "name": "stdout",
          "text": [
            "Epoch 190/600 [D loss: 1.3841] [G loss: 0.8347] Time: 0:00:02.384123\n",
            "Epoch 191/600 [D loss: 1.0958] [G loss: 0.7968] Time: 0:00:02.331568\n",
            "Epoch 192/600 [D loss: 1.3736] [G loss: 0.8079] Time: 0:00:02.531306\n",
            "Epoch 193/600 [D loss: 1.1667] [G loss: 0.8158] Time: 0:00:02.337933\n",
            "Epoch 194/600 [D loss: 1.2867] [G loss: 0.9272] Time: 0:00:02.341585\n",
            "Epoch 195/600 [D loss: 1.1342] [G loss: 0.9005] Time: 0:00:02.538222\n",
            "Epoch 196/600 [D loss: 1.4107] [G loss: 0.8537] Time: 0:00:02.346887\n",
            "Epoch 197/600 [D loss: 1.1593] [G loss: 0.8477] Time: 0:00:02.348125\n",
            "Epoch 198/600 [D loss: 1.3197] [G loss: 0.7975] Time: 0:00:02.538759\n",
            "Epoch 199/600 [D loss: 1.1893] [G loss: 0.8906] Time: 0:00:02.346193\n"
          ]
        },
        {
          "output_type": "stream",
          "name": "stderr",
          "text": [
            "WARNING:absl:You are saving your model as an HDF5 file via `model.save()` or `keras.saving.save_model(model)`. This file format is considered legacy. We recommend using instead the native Keras format, e.g. `model.save('my_model.keras')` or `keras.saving.save_model(model, 'my_model.keras')`. \n",
            "WARNING:absl:You are saving your model as an HDF5 file via `model.save()` or `keras.saving.save_model(model)`. This file format is considered legacy. We recommend using instead the native Keras format, e.g. `model.save('my_model.keras')` or `keras.saving.save_model(model, 'my_model.keras')`. \n"
          ]
        },
        {
          "output_type": "stream",
          "name": "stdout",
          "text": [
            "Epoch 200/600 [D loss: 1.3053] [G loss: 0.8772] Time: 0:00:02.447736\n",
            "Epoch 201/600 [D loss: 1.3446] [G loss: 0.8453] Time: 0:00:02.543549\n",
            "Epoch 202/600 [D loss: 1.3471] [G loss: 0.9532] Time: 0:00:02.344090\n",
            "Epoch 203/600 [D loss: 1.1964] [G loss: 0.8062] Time: 0:00:02.349538\n",
            "Epoch 204/600 [D loss: 1.4069] [G loss: 0.7789] Time: 0:00:02.545933\n",
            "Epoch 205/600 [D loss: 1.1330] [G loss: 0.7825] Time: 0:00:02.338998\n",
            "Epoch 206/600 [D loss: 1.3505] [G loss: 0.7874] Time: 0:00:02.342848\n",
            "Epoch 207/600 [D loss: 1.2077] [G loss: 0.8544] Time: 0:00:02.529585\n",
            "Epoch 208/600 [D loss: 1.1543] [G loss: 0.8732] Time: 0:00:02.332092\n",
            "Epoch 209/600 [D loss: 1.2961] [G loss: 0.8020] Time: 0:00:02.328664\n"
          ]
        },
        {
          "output_type": "stream",
          "name": "stderr",
          "text": [
            "WARNING:absl:You are saving your model as an HDF5 file via `model.save()` or `keras.saving.save_model(model)`. This file format is considered legacy. We recommend using instead the native Keras format, e.g. `model.save('my_model.keras')` or `keras.saving.save_model(model, 'my_model.keras')`. \n",
            "WARNING:absl:You are saving your model as an HDF5 file via `model.save()` or `keras.saving.save_model(model)`. This file format is considered legacy. We recommend using instead the native Keras format, e.g. `model.save('my_model.keras')` or `keras.saving.save_model(model, 'my_model.keras')`. \n"
          ]
        },
        {
          "output_type": "stream",
          "name": "stdout",
          "text": [
            "Epoch 210/600 [D loss: 1.3672] [G loss: 0.7796] Time: 0:00:02.688302\n",
            "Epoch 211/600 [D loss: 1.3554] [G loss: 0.7041] Time: 0:00:02.326594\n",
            "Epoch 212/600 [D loss: 1.1879] [G loss: 0.8436] Time: 0:00:02.323931\n",
            "Epoch 213/600 [D loss: 1.1650] [G loss: 0.8048] Time: 0:00:03.476398\n",
            "Epoch 214/600 [D loss: 1.2766] [G loss: 0.7924] Time: 0:00:02.318223\n",
            "Epoch 215/600 [D loss: 1.2662] [G loss: 0.8706] Time: 0:00:02.320650\n",
            "Epoch 216/600 [D loss: 1.4225] [G loss: 0.8125] Time: 0:00:02.539519\n",
            "Epoch 217/600 [D loss: 1.4048] [G loss: 0.8154] Time: 0:00:02.319699\n",
            "Epoch 218/600 [D loss: 1.1134] [G loss: 0.8538] Time: 0:00:02.320157\n",
            "Epoch 219/600 [D loss: 1.3251] [G loss: 0.8221] Time: 0:00:02.504766\n"
          ]
        },
        {
          "output_type": "stream",
          "name": "stderr",
          "text": [
            "WARNING:absl:You are saving your model as an HDF5 file via `model.save()` or `keras.saving.save_model(model)`. This file format is considered legacy. We recommend using instead the native Keras format, e.g. `model.save('my_model.keras')` or `keras.saving.save_model(model, 'my_model.keras')`. \n",
            "WARNING:absl:You are saving your model as an HDF5 file via `model.save()` or `keras.saving.save_model(model)`. This file format is considered legacy. We recommend using instead the native Keras format, e.g. `model.save('my_model.keras')` or `keras.saving.save_model(model, 'my_model.keras')`. \n"
          ]
        },
        {
          "output_type": "stream",
          "name": "stdout",
          "text": [
            "Epoch 220/600 [D loss: 1.3268] [G loss: 0.8268] Time: 0:00:02.398530\n",
            "Epoch 221/600 [D loss: 1.0516] [G loss: 0.7919] Time: 0:00:02.333564\n",
            "Epoch 222/600 [D loss: 1.2874] [G loss: 0.8637] Time: 0:00:02.515218\n",
            "Epoch 223/600 [D loss: 1.6390] [G loss: 0.8709] Time: 0:00:02.328705\n",
            "Epoch 224/600 [D loss: 1.3836] [G loss: 0.8884] Time: 0:00:02.332697\n",
            "Epoch 225/600 [D loss: 1.2945] [G loss: 0.7959] Time: 0:00:02.517388\n",
            "Epoch 226/600 [D loss: 1.3424] [G loss: 0.8459] Time: 0:00:02.337392\n",
            "Epoch 227/600 [D loss: 1.2076] [G loss: 0.7414] Time: 0:00:02.334242\n",
            "Epoch 228/600 [D loss: 1.2790] [G loss: 0.8524] Time: 0:00:02.521344\n",
            "Epoch 229/600 [D loss: 1.3820] [G loss: 0.8996] Time: 0:00:02.334932\n"
          ]
        },
        {
          "output_type": "stream",
          "name": "stderr",
          "text": [
            "WARNING:absl:You are saving your model as an HDF5 file via `model.save()` or `keras.saving.save_model(model)`. This file format is considered legacy. We recommend using instead the native Keras format, e.g. `model.save('my_model.keras')` or `keras.saving.save_model(model, 'my_model.keras')`. \n",
            "WARNING:absl:You are saving your model as an HDF5 file via `model.save()` or `keras.saving.save_model(model)`. This file format is considered legacy. We recommend using instead the native Keras format, e.g. `model.save('my_model.keras')` or `keras.saving.save_model(model, 'my_model.keras')`. \n"
          ]
        },
        {
          "output_type": "stream",
          "name": "stdout",
          "text": [
            "Epoch 230/600 [D loss: 1.2924] [G loss: 0.7713] Time: 0:00:02.399975\n",
            "Epoch 231/600 [D loss: 1.3010] [G loss: 0.8994] Time: 0:00:02.612380\n",
            "Epoch 232/600 [D loss: 1.3096] [G loss: 0.9625] Time: 0:00:02.341655\n",
            "Epoch 233/600 [D loss: 1.5324] [G loss: 0.8475] Time: 0:00:02.350343\n",
            "Epoch 234/600 [D loss: 1.3228] [G loss: 0.8777] Time: 0:00:02.538918\n",
            "Epoch 235/600 [D loss: 1.1851] [G loss: 0.8086] Time: 0:00:02.340149\n",
            "Epoch 236/600 [D loss: 1.2218] [G loss: 0.8214] Time: 0:00:02.341749\n",
            "Epoch 237/600 [D loss: 1.1271] [G loss: 0.9015] Time: 0:00:02.613563\n",
            "Epoch 238/600 [D loss: 1.3022] [G loss: 0.8262] Time: 0:00:02.336369\n",
            "Epoch 239/600 [D loss: 1.3247] [G loss: 0.7882] Time: 0:00:02.333209\n"
          ]
        },
        {
          "output_type": "stream",
          "name": "stderr",
          "text": [
            "WARNING:absl:You are saving your model as an HDF5 file via `model.save()` or `keras.saving.save_model(model)`. This file format is considered legacy. We recommend using instead the native Keras format, e.g. `model.save('my_model.keras')` or `keras.saving.save_model(model, 'my_model.keras')`. \n",
            "WARNING:absl:You are saving your model as an HDF5 file via `model.save()` or `keras.saving.save_model(model)`. This file format is considered legacy. We recommend using instead the native Keras format, e.g. `model.save('my_model.keras')` or `keras.saving.save_model(model, 'my_model.keras')`. \n"
          ]
        },
        {
          "output_type": "stream",
          "name": "stdout",
          "text": [
            "Epoch 240/600 [D loss: 1.3886] [G loss: 0.8256] Time: 0:00:02.587644\n",
            "Epoch 241/600 [D loss: 1.1193] [G loss: 0.8430] Time: 0:00:02.329181\n",
            "Epoch 242/600 [D loss: 1.1433] [G loss: 0.7874] Time: 0:00:02.325532\n",
            "Epoch 243/600 [D loss: 1.5460] [G loss: 0.7508] Time: 0:00:02.530343\n",
            "Epoch 244/600 [D loss: 1.3610] [G loss: 0.7338] Time: 0:00:02.324931\n",
            "Epoch 245/600 [D loss: 1.1627] [G loss: 0.8567] Time: 0:00:02.325640\n",
            "Epoch 246/600 [D loss: 1.2922] [G loss: 0.8437] Time: 0:00:02.524975\n",
            "Epoch 247/600 [D loss: 1.1801] [G loss: 0.9527] Time: 0:00:02.325420\n",
            "Epoch 248/600 [D loss: 1.3414] [G loss: 0.7732] Time: 0:00:02.330458\n",
            "Epoch 249/600 [D loss: 1.3804] [G loss: 0.9112] Time: 0:00:02.513588\n"
          ]
        },
        {
          "output_type": "stream",
          "name": "stderr",
          "text": [
            "WARNING:absl:You are saving your model as an HDF5 file via `model.save()` or `keras.saving.save_model(model)`. This file format is considered legacy. We recommend using instead the native Keras format, e.g. `model.save('my_model.keras')` or `keras.saving.save_model(model, 'my_model.keras')`. \n",
            "WARNING:absl:You are saving your model as an HDF5 file via `model.save()` or `keras.saving.save_model(model)`. This file format is considered legacy. We recommend using instead the native Keras format, e.g. `model.save('my_model.keras')` or `keras.saving.save_model(model, 'my_model.keras')`. \n"
          ]
        },
        {
          "output_type": "stream",
          "name": "stdout",
          "text": [
            "Epoch 250/600 [D loss: 1.5084] [G loss: 0.8424] Time: 0:00:02.376926\n",
            "Epoch 251/600 [D loss: 1.1642] [G loss: 0.8485] Time: 0:00:02.321149\n",
            "Epoch 252/600 [D loss: 1.2522] [G loss: 0.8457] Time: 0:00:02.508168\n",
            "Epoch 253/600 [D loss: 1.2057] [G loss: 0.8421] Time: 0:00:02.324300\n",
            "Epoch 254/600 [D loss: 1.3947] [G loss: 0.8266] Time: 0:00:02.325063\n",
            "Epoch 255/600 [D loss: 1.3029] [G loss: 0.8320] Time: 0:00:02.506294\n",
            "Epoch 256/600 [D loss: 1.3322] [G loss: 0.8073] Time: 0:00:02.322068\n",
            "Epoch 257/600 [D loss: 1.2548] [G loss: 0.8383] Time: 0:00:02.325797\n",
            "Epoch 258/600 [D loss: 1.2743] [G loss: 0.8505] Time: 0:00:02.607474\n",
            "Epoch 259/600 [D loss: 1.1458] [G loss: 0.8445] Time: 0:00:02.327010\n"
          ]
        },
        {
          "output_type": "stream",
          "name": "stderr",
          "text": [
            "WARNING:absl:You are saving your model as an HDF5 file via `model.save()` or `keras.saving.save_model(model)`. This file format is considered legacy. We recommend using instead the native Keras format, e.g. `model.save('my_model.keras')` or `keras.saving.save_model(model, 'my_model.keras')`. \n",
            "WARNING:absl:You are saving your model as an HDF5 file via `model.save()` or `keras.saving.save_model(model)`. This file format is considered legacy. We recommend using instead the native Keras format, e.g. `model.save('my_model.keras')` or `keras.saving.save_model(model, 'my_model.keras')`. \n"
          ]
        },
        {
          "output_type": "stream",
          "name": "stdout",
          "text": [
            "Epoch 260/600 [D loss: 1.3302] [G loss: 0.9279] Time: 0:00:02.384625\n",
            "Epoch 261/600 [D loss: 1.1535] [G loss: 0.8160] Time: 0:00:02.518298\n",
            "Epoch 262/600 [D loss: 1.2440] [G loss: 0.6892] Time: 0:00:02.330921\n",
            "Epoch 263/600 [D loss: 1.2552] [G loss: 0.7660] Time: 0:00:02.338402\n",
            "Epoch 264/600 [D loss: 1.2753] [G loss: 0.8813] Time: 0:00:02.610231\n",
            "Epoch 265/600 [D loss: 1.4053] [G loss: 0.8552] Time: 0:00:02.343237\n",
            "Epoch 266/600 [D loss: 1.2519] [G loss: 0.9274] Time: 0:00:02.341050\n",
            "Epoch 267/600 [D loss: 1.0319] [G loss: 0.8665] Time: 0:00:02.540880\n",
            "Epoch 268/600 [D loss: 1.3657] [G loss: 0.8241] Time: 0:00:02.341543\n",
            "Epoch 269/600 [D loss: 1.3475] [G loss: 0.8460] Time: 0:00:02.336507\n"
          ]
        },
        {
          "output_type": "stream",
          "name": "stderr",
          "text": [
            "WARNING:absl:You are saving your model as an HDF5 file via `model.save()` or `keras.saving.save_model(model)`. This file format is considered legacy. We recommend using instead the native Keras format, e.g. `model.save('my_model.keras')` or `keras.saving.save_model(model, 'my_model.keras')`. \n",
            "WARNING:absl:You are saving your model as an HDF5 file via `model.save()` or `keras.saving.save_model(model)`. This file format is considered legacy. We recommend using instead the native Keras format, e.g. `model.save('my_model.keras')` or `keras.saving.save_model(model, 'my_model.keras')`. \n"
          ]
        },
        {
          "output_type": "stream",
          "name": "stdout",
          "text": [
            "Epoch 270/600 [D loss: 1.1513] [G loss: 0.9177] Time: 0:00:02.609324\n",
            "Epoch 271/600 [D loss: 1.7158] [G loss: 0.7505] Time: 0:00:02.334091\n",
            "Epoch 272/600 [D loss: 1.3259] [G loss: 0.7599] Time: 0:00:02.340264\n",
            "Epoch 273/600 [D loss: 1.3644] [G loss: 0.8340] Time: 0:00:02.546009\n",
            "Epoch 274/600 [D loss: 1.1878] [G loss: 1.0685] Time: 0:00:02.329589\n",
            "Epoch 275/600 [D loss: 1.1423] [G loss: 0.8566] Time: 0:00:02.328803\n",
            "Epoch 276/600 [D loss: 1.4219] [G loss: 0.8132] Time: 0:00:02.540537\n",
            "Epoch 277/600 [D loss: 1.2426] [G loss: 0.8737] Time: 0:00:02.327782\n",
            "Epoch 278/600 [D loss: 1.2233] [G loss: 0.8075] Time: 0:00:02.331653\n",
            "Epoch 279/600 [D loss: 1.4103] [G loss: 0.8624] Time: 0:00:02.521489\n"
          ]
        },
        {
          "output_type": "stream",
          "name": "stderr",
          "text": [
            "WARNING:absl:You are saving your model as an HDF5 file via `model.save()` or `keras.saving.save_model(model)`. This file format is considered legacy. We recommend using instead the native Keras format, e.g. `model.save('my_model.keras')` or `keras.saving.save_model(model, 'my_model.keras')`. \n",
            "WARNING:absl:You are saving your model as an HDF5 file via `model.save()` or `keras.saving.save_model(model)`. This file format is considered legacy. We recommend using instead the native Keras format, e.g. `model.save('my_model.keras')` or `keras.saving.save_model(model, 'my_model.keras')`. \n"
          ]
        },
        {
          "output_type": "stream",
          "name": "stdout",
          "text": [
            "Epoch 280/600 [D loss: 1.2076] [G loss: 1.0404] Time: 0:00:02.394981\n",
            "Epoch 281/600 [D loss: 1.2216] [G loss: 0.8825] Time: 0:00:02.330504\n",
            "Epoch 282/600 [D loss: 1.1998] [G loss: 0.7977] Time: 0:00:02.517148\n",
            "Epoch 283/600 [D loss: 1.1927] [G loss: 0.8219] Time: 0:00:02.327064\n",
            "Epoch 284/600 [D loss: 1.3946] [G loss: 0.9702] Time: 0:00:02.326545\n",
            "Epoch 285/600 [D loss: 1.2258] [G loss: 0.8506] Time: 0:00:03.974918\n",
            "Epoch 286/600 [D loss: 1.2793] [G loss: 0.9115] Time: 0:00:02.326974\n",
            "Epoch 287/600 [D loss: 1.3666] [G loss: 0.8715] Time: 0:00:02.320266\n",
            "Epoch 288/600 [D loss: 1.2837] [G loss: 0.9079] Time: 0:00:02.512140\n",
            "Epoch 289/600 [D loss: 1.1730] [G loss: 0.8313] Time: 0:00:02.320110\n"
          ]
        },
        {
          "output_type": "stream",
          "name": "stderr",
          "text": [
            "WARNING:absl:You are saving your model as an HDF5 file via `model.save()` or `keras.saving.save_model(model)`. This file format is considered legacy. We recommend using instead the native Keras format, e.g. `model.save('my_model.keras')` or `keras.saving.save_model(model, 'my_model.keras')`. \n",
            "WARNING:absl:You are saving your model as an HDF5 file via `model.save()` or `keras.saving.save_model(model)`. This file format is considered legacy. We recommend using instead the native Keras format, e.g. `model.save('my_model.keras')` or `keras.saving.save_model(model, 'my_model.keras')`. \n"
          ]
        },
        {
          "output_type": "stream",
          "name": "stdout",
          "text": [
            "Epoch 290/600 [D loss: 1.1469] [G loss: 0.9045] Time: 0:00:02.390644\n",
            "Epoch 291/600 [D loss: 1.1991] [G loss: 0.8958] Time: 0:00:02.532978\n",
            "Epoch 292/600 [D loss: 1.2464] [G loss: 0.8907] Time: 0:00:02.327867\n",
            "Epoch 293/600 [D loss: 1.1893] [G loss: 0.7881] Time: 0:00:02.331045\n",
            "Epoch 294/600 [D loss: 1.2591] [G loss: 0.8849] Time: 0:00:02.525786\n",
            "Epoch 295/600 [D loss: 1.2797] [G loss: 0.8618] Time: 0:00:02.331351\n",
            "Epoch 296/600 [D loss: 1.2360] [G loss: 0.9094] Time: 0:00:02.339131\n",
            "Epoch 297/600 [D loss: 1.2227] [G loss: 0.8512] Time: 0:00:02.530123\n",
            "Epoch 298/600 [D loss: 1.3373] [G loss: 0.8982] Time: 0:00:02.337574\n",
            "Epoch 299/600 [D loss: 1.3776] [G loss: 0.8535] Time: 0:00:02.347196\n"
          ]
        },
        {
          "output_type": "stream",
          "name": "stderr",
          "text": [
            "WARNING:absl:You are saving your model as an HDF5 file via `model.save()` or `keras.saving.save_model(model)`. This file format is considered legacy. We recommend using instead the native Keras format, e.g. `model.save('my_model.keras')` or `keras.saving.save_model(model, 'my_model.keras')`. \n",
            "WARNING:absl:You are saving your model as an HDF5 file via `model.save()` or `keras.saving.save_model(model)`. This file format is considered legacy. We recommend using instead the native Keras format, e.g. `model.save('my_model.keras')` or `keras.saving.save_model(model, 'my_model.keras')`. \n"
          ]
        },
        {
          "output_type": "stream",
          "name": "stdout",
          "text": [
            "Epoch 300/600 [D loss: 1.2501] [G loss: 0.8581] Time: 0:00:02.605792\n",
            "Epoch 301/600 [D loss: 1.0137] [G loss: 0.8575] Time: 0:00:02.336461\n",
            "Epoch 302/600 [D loss: 1.1632] [G loss: 0.8450] Time: 0:00:02.338197\n",
            "Epoch 303/600 [D loss: 1.2216] [G loss: 0.8584] Time: 0:00:02.525220\n",
            "Epoch 304/600 [D loss: 1.4204] [G loss: 0.7947] Time: 0:00:02.330749\n",
            "Epoch 305/600 [D loss: 1.3794] [G loss: 0.9532] Time: 0:00:02.331765\n",
            "Epoch 306/600 [D loss: 1.0692] [G loss: 0.8738] Time: 0:00:02.608599\n",
            "Epoch 307/600 [D loss: 0.9732] [G loss: 0.7873] Time: 0:00:02.332495\n",
            "Epoch 308/600 [D loss: 1.3517] [G loss: 0.9409] Time: 0:00:02.331081\n",
            "Epoch 309/600 [D loss: 1.2071] [G loss: 0.9074] Time: 0:00:02.543203\n"
          ]
        },
        {
          "output_type": "stream",
          "name": "stderr",
          "text": [
            "WARNING:absl:You are saving your model as an HDF5 file via `model.save()` or `keras.saving.save_model(model)`. This file format is considered legacy. We recommend using instead the native Keras format, e.g. `model.save('my_model.keras')` or `keras.saving.save_model(model, 'my_model.keras')`. \n",
            "WARNING:absl:You are saving your model as an HDF5 file via `model.save()` or `keras.saving.save_model(model)`. This file format is considered legacy. We recommend using instead the native Keras format, e.g. `model.save('my_model.keras')` or `keras.saving.save_model(model, 'my_model.keras')`. \n"
          ]
        },
        {
          "output_type": "stream",
          "name": "stdout",
          "text": [
            "Epoch 310/600 [D loss: 1.2896] [G loss: 0.8589] Time: 0:00:02.377594\n",
            "Epoch 311/600 [D loss: 1.1540] [G loss: 0.7892] Time: 0:00:02.327245\n",
            "Epoch 312/600 [D loss: 1.2358] [G loss: 1.0206] Time: 0:00:02.625780\n",
            "Epoch 313/600 [D loss: 1.2151] [G loss: 0.8908] Time: 0:00:02.330483\n",
            "Epoch 314/600 [D loss: 1.2527] [G loss: 0.7982] Time: 0:00:02.327956\n",
            "Epoch 315/600 [D loss: 1.1595] [G loss: 0.9447] Time: 0:00:02.517557\n",
            "Epoch 316/600 [D loss: 1.3982] [G loss: 0.9378] Time: 0:00:02.327197\n",
            "Epoch 317/600 [D loss: 1.2378] [G loss: 0.8597] Time: 0:00:02.329707\n",
            "Epoch 318/600 [D loss: 1.1028] [G loss: 0.9466] Time: 0:00:02.534558\n",
            "Epoch 319/600 [D loss: 1.1607] [G loss: 0.9128] Time: 0:00:02.326726\n"
          ]
        },
        {
          "output_type": "stream",
          "name": "stderr",
          "text": [
            "WARNING:absl:You are saving your model as an HDF5 file via `model.save()` or `keras.saving.save_model(model)`. This file format is considered legacy. We recommend using instead the native Keras format, e.g. `model.save('my_model.keras')` or `keras.saving.save_model(model, 'my_model.keras')`. \n",
            "WARNING:absl:You are saving your model as an HDF5 file via `model.save()` or `keras.saving.save_model(model)`. This file format is considered legacy. We recommend using instead the native Keras format, e.g. `model.save('my_model.keras')` or `keras.saving.save_model(model, 'my_model.keras')`. \n"
          ]
        },
        {
          "output_type": "stream",
          "name": "stdout",
          "text": [
            "Epoch 320/600 [D loss: 1.3761] [G loss: 0.8749] Time: 0:00:02.386520\n",
            "Epoch 321/600 [D loss: 1.1966] [G loss: 0.9553] Time: 0:00:02.542518\n",
            "Epoch 322/600 [D loss: 1.3588] [G loss: 0.8510] Time: 0:00:02.325512\n",
            "Epoch 323/600 [D loss: 1.1432] [G loss: 1.0161] Time: 0:00:02.334355\n",
            "Epoch 324/600 [D loss: 1.1494] [G loss: 0.9118] Time: 0:00:02.517847\n",
            "Epoch 325/600 [D loss: 1.1722] [G loss: 0.9281] Time: 0:00:02.326277\n",
            "Epoch 326/600 [D loss: 1.4305] [G loss: 0.8181] Time: 0:00:02.328260\n",
            "Epoch 327/600 [D loss: 1.2143] [G loss: 0.9222] Time: 0:00:02.513904\n",
            "Epoch 328/600 [D loss: 1.0912] [G loss: 0.8536] Time: 0:00:02.322504\n",
            "Epoch 329/600 [D loss: 1.1172] [G loss: 0.9658] Time: 0:00:02.332474\n"
          ]
        },
        {
          "output_type": "stream",
          "name": "stderr",
          "text": [
            "WARNING:absl:You are saving your model as an HDF5 file via `model.save()` or `keras.saving.save_model(model)`. This file format is considered legacy. We recommend using instead the native Keras format, e.g. `model.save('my_model.keras')` or `keras.saving.save_model(model, 'my_model.keras')`. \n",
            "WARNING:absl:You are saving your model as an HDF5 file via `model.save()` or `keras.saving.save_model(model)`. This file format is considered legacy. We recommend using instead the native Keras format, e.g. `model.save('my_model.keras')` or `keras.saving.save_model(model, 'my_model.keras')`. \n"
          ]
        },
        {
          "output_type": "stream",
          "name": "stdout",
          "text": [
            "Epoch 330/600 [D loss: 1.1384] [G loss: 0.9602] Time: 0:00:02.578368\n",
            "Epoch 331/600 [D loss: 1.3114] [G loss: 0.8125] Time: 0:00:02.329223\n",
            "Epoch 332/600 [D loss: 1.1873] [G loss: 1.0126] Time: 0:00:02.329623\n",
            "Epoch 333/600 [D loss: 1.4018] [G loss: 0.7767] Time: 0:00:02.602475\n",
            "Epoch 334/600 [D loss: 1.1353] [G loss: 0.9656] Time: 0:00:02.328654\n",
            "Epoch 335/600 [D loss: 1.3444] [G loss: 0.8136] Time: 0:00:02.329733\n",
            "Epoch 336/600 [D loss: 1.4345] [G loss: 0.7673] Time: 0:00:02.517112\n",
            "Epoch 337/600 [D loss: 0.9429] [G loss: 0.9375] Time: 0:00:02.329196\n",
            "Epoch 338/600 [D loss: 1.3368] [G loss: 1.0002] Time: 0:00:02.329402\n",
            "Epoch 339/600 [D loss: 1.1595] [G loss: 0.8884] Time: 0:00:02.626847\n"
          ]
        },
        {
          "output_type": "stream",
          "name": "stderr",
          "text": [
            "WARNING:absl:You are saving your model as an HDF5 file via `model.save()` or `keras.saving.save_model(model)`. This file format is considered legacy. We recommend using instead the native Keras format, e.g. `model.save('my_model.keras')` or `keras.saving.save_model(model, 'my_model.keras')`. \n",
            "WARNING:absl:You are saving your model as an HDF5 file via `model.save()` or `keras.saving.save_model(model)`. This file format is considered legacy. We recommend using instead the native Keras format, e.g. `model.save('my_model.keras')` or `keras.saving.save_model(model, 'my_model.keras')`. \n"
          ]
        },
        {
          "output_type": "stream",
          "name": "stdout",
          "text": [
            "Epoch 340/600 [D loss: 1.2300] [G loss: 0.8961] Time: 0:00:02.385119\n",
            "Epoch 341/600 [D loss: 1.4016] [G loss: 0.9077] Time: 0:00:02.326669\n",
            "Epoch 342/600 [D loss: 1.1356] [G loss: 0.9786] Time: 0:00:02.520922\n",
            "Epoch 343/600 [D loss: 1.1738] [G loss: 0.8430] Time: 0:00:02.326282\n",
            "Epoch 344/600 [D loss: 1.0669] [G loss: 0.8786] Time: 0:00:02.327490\n",
            "Epoch 345/600 [D loss: 1.2693] [G loss: 0.9224] Time: 0:00:02.534218\n",
            "Epoch 346/600 [D loss: 1.3770] [G loss: 0.8922] Time: 0:00:02.328522\n",
            "Epoch 347/600 [D loss: 1.0907] [G loss: 0.9584] Time: 0:00:02.332332\n",
            "Epoch 348/600 [D loss: 1.3908] [G loss: 0.9517] Time: 0:00:02.542902\n",
            "Epoch 349/600 [D loss: 1.0645] [G loss: 1.0623] Time: 0:00:02.332840\n"
          ]
        },
        {
          "output_type": "stream",
          "name": "stderr",
          "text": [
            "WARNING:absl:You are saving your model as an HDF5 file via `model.save()` or `keras.saving.save_model(model)`. This file format is considered legacy. We recommend using instead the native Keras format, e.g. `model.save('my_model.keras')` or `keras.saving.save_model(model, 'my_model.keras')`. \n",
            "WARNING:absl:You are saving your model as an HDF5 file via `model.save()` or `keras.saving.save_model(model)`. This file format is considered legacy. We recommend using instead the native Keras format, e.g. `model.save('my_model.keras')` or `keras.saving.save_model(model, 'my_model.keras')`. \n"
          ]
        },
        {
          "output_type": "stream",
          "name": "stdout",
          "text": [
            "Epoch 350/600 [D loss: 1.1709] [G loss: 0.9736] Time: 0:00:02.398674\n",
            "Epoch 351/600 [D loss: 1.3519] [G loss: 1.0273] Time: 0:00:02.564227\n",
            "Epoch 352/600 [D loss: 1.0236] [G loss: 1.0034] Time: 0:00:02.333365\n",
            "Epoch 353/600 [D loss: 1.3785] [G loss: 0.8262] Time: 0:00:02.336641\n",
            "Epoch 354/600 [D loss: 0.9440] [G loss: 0.9490] Time: 0:00:02.533964\n",
            "Epoch 355/600 [D loss: 1.2197] [G loss: 0.9799] Time: 0:00:02.331171\n",
            "Epoch 356/600 [D loss: 1.1410] [G loss: 0.8996] Time: 0:00:02.337580\n",
            "Epoch 357/600 [D loss: 1.3699] [G loss: 1.0234] Time: 0:00:02.527387\n",
            "Epoch 358/600 [D loss: 1.1754] [G loss: 1.0142] Time: 0:00:02.330068\n",
            "Epoch 359/600 [D loss: 1.1241] [G loss: 1.0782] Time: 0:00:02.333295\n"
          ]
        },
        {
          "output_type": "stream",
          "name": "stderr",
          "text": [
            "WARNING:absl:You are saving your model as an HDF5 file via `model.save()` or `keras.saving.save_model(model)`. This file format is considered legacy. We recommend using instead the native Keras format, e.g. `model.save('my_model.keras')` or `keras.saving.save_model(model, 'my_model.keras')`. \n",
            "WARNING:absl:You are saving your model as an HDF5 file via `model.save()` or `keras.saving.save_model(model)`. This file format is considered legacy. We recommend using instead the native Keras format, e.g. `model.save('my_model.keras')` or `keras.saving.save_model(model, 'my_model.keras')`. \n"
          ]
        },
        {
          "output_type": "stream",
          "name": "stdout",
          "text": [
            "Epoch 360/600 [D loss: 1.3429] [G loss: 1.0614] Time: 0:00:02.699593\n",
            "Epoch 361/600 [D loss: 1.1625] [G loss: 0.9913] Time: 0:00:02.323364\n",
            "Epoch 362/600 [D loss: 1.1653] [G loss: 0.9521] Time: 0:00:02.328382\n",
            "Epoch 363/600 [D loss: 1.1073] [G loss: 0.8205] Time: 0:00:02.512041\n",
            "Epoch 364/600 [D loss: 1.3061] [G loss: 0.9872] Time: 0:00:02.324825\n",
            "Epoch 365/600 [D loss: 1.4006] [G loss: 0.9115] Time: 0:00:02.323554\n",
            "Epoch 366/600 [D loss: 1.3289] [G loss: 0.9583] Time: 0:00:02.636912\n",
            "Epoch 367/600 [D loss: 1.2697] [G loss: 0.9223] Time: 0:00:02.322358\n",
            "Epoch 368/600 [D loss: 1.1672] [G loss: 0.8957] Time: 0:00:02.324245\n",
            "Epoch 369/600 [D loss: 1.1404] [G loss: 1.0750] Time: 0:00:02.512558\n"
          ]
        },
        {
          "output_type": "stream",
          "name": "stderr",
          "text": [
            "WARNING:absl:You are saving your model as an HDF5 file via `model.save()` or `keras.saving.save_model(model)`. This file format is considered legacy. We recommend using instead the native Keras format, e.g. `model.save('my_model.keras')` or `keras.saving.save_model(model, 'my_model.keras')`. \n",
            "WARNING:absl:You are saving your model as an HDF5 file via `model.save()` or `keras.saving.save_model(model)`. This file format is considered legacy. We recommend using instead the native Keras format, e.g. `model.save('my_model.keras')` or `keras.saving.save_model(model, 'my_model.keras')`. \n"
          ]
        },
        {
          "output_type": "stream",
          "name": "stdout",
          "text": [
            "Epoch 370/600 [D loss: 1.2987] [G loss: 0.9029] Time: 0:00:02.368407\n",
            "Epoch 371/600 [D loss: 1.2513] [G loss: 0.8136] Time: 0:00:02.315938\n",
            "Epoch 372/600 [D loss: 1.0339] [G loss: 1.0664] Time: 0:00:02.510394\n",
            "Epoch 373/600 [D loss: 1.4694] [G loss: 0.7945] Time: 0:00:02.320442\n",
            "Epoch 374/600 [D loss: 1.0598] [G loss: 0.9940] Time: 0:00:02.327921\n",
            "Epoch 375/600 [D loss: 0.9890] [G loss: 1.0975] Time: 0:00:02.512115\n",
            "Epoch 376/600 [D loss: 1.1120] [G loss: 1.0376] Time: 0:00:02.320767\n",
            "Epoch 377/600 [D loss: 1.4214] [G loss: 0.8708] Time: 0:00:02.329452\n",
            "Epoch 378/600 [D loss: 1.0861] [G loss: 0.9218] Time: 0:00:03.933968\n",
            "Epoch 379/600 [D loss: 1.1520] [G loss: 0.8174] Time: 0:00:02.318151\n"
          ]
        },
        {
          "output_type": "stream",
          "name": "stderr",
          "text": [
            "WARNING:absl:You are saving your model as an HDF5 file via `model.save()` or `keras.saving.save_model(model)`. This file format is considered legacy. We recommend using instead the native Keras format, e.g. `model.save('my_model.keras')` or `keras.saving.save_model(model, 'my_model.keras')`. \n",
            "WARNING:absl:You are saving your model as an HDF5 file via `model.save()` or `keras.saving.save_model(model)`. This file format is considered legacy. We recommend using instead the native Keras format, e.g. `model.save('my_model.keras')` or `keras.saving.save_model(model, 'my_model.keras')`. \n"
          ]
        },
        {
          "output_type": "stream",
          "name": "stdout",
          "text": [
            "Epoch 380/600 [D loss: 1.0102] [G loss: 0.9889] Time: 0:00:02.378620\n",
            "Epoch 381/600 [D loss: 1.1033] [G loss: 1.0003] Time: 0:00:02.599219\n",
            "Epoch 382/600 [D loss: 1.3566] [G loss: 1.0176] Time: 0:00:02.329015\n",
            "Epoch 383/600 [D loss: 1.2500] [G loss: 0.8085] Time: 0:00:02.327844\n",
            "Epoch 384/600 [D loss: 1.3784] [G loss: 0.9219] Time: 0:00:02.542055\n",
            "Epoch 385/600 [D loss: 1.4098] [G loss: 0.9589] Time: 0:00:02.331793\n",
            "Epoch 386/600 [D loss: 1.0945] [G loss: 1.0678] Time: 0:00:02.336406\n",
            "Epoch 387/600 [D loss: 1.2006] [G loss: 0.9915] Time: 0:00:02.632895\n",
            "Epoch 388/600 [D loss: 1.2216] [G loss: 0.9726] Time: 0:00:02.337138\n",
            "Epoch 389/600 [D loss: 1.1974] [G loss: 0.8319] Time: 0:00:02.336613\n"
          ]
        },
        {
          "output_type": "stream",
          "name": "stderr",
          "text": [
            "WARNING:absl:You are saving your model as an HDF5 file via `model.save()` or `keras.saving.save_model(model)`. This file format is considered legacy. We recommend using instead the native Keras format, e.g. `model.save('my_model.keras')` or `keras.saving.save_model(model, 'my_model.keras')`. \n",
            "WARNING:absl:You are saving your model as an HDF5 file via `model.save()` or `keras.saving.save_model(model)`. This file format is considered legacy. We recommend using instead the native Keras format, e.g. `model.save('my_model.keras')` or `keras.saving.save_model(model, 'my_model.keras')`. \n"
          ]
        },
        {
          "output_type": "stream",
          "name": "stdout",
          "text": [
            "Epoch 390/600 [D loss: 0.9312] [G loss: 0.9349] Time: 0:00:02.578931\n",
            "Epoch 391/600 [D loss: 1.2694] [G loss: 0.9413] Time: 0:00:02.332317\n",
            "Epoch 392/600 [D loss: 1.0317] [G loss: 0.9996] Time: 0:00:02.331717\n",
            "Epoch 393/600 [D loss: 0.9299] [G loss: 1.0260] Time: 0:00:02.517973\n",
            "Epoch 394/600 [D loss: 1.0970] [G loss: 1.0526] Time: 0:00:02.328877\n",
            "Epoch 395/600 [D loss: 1.2995] [G loss: 0.9834] Time: 0:00:02.337004\n",
            "Epoch 396/600 [D loss: 1.0981] [G loss: 0.9584] Time: 0:00:02.539691\n",
            "Epoch 397/600 [D loss: 1.1752] [G loss: 0.8254] Time: 0:00:02.331234\n",
            "Epoch 398/600 [D loss: 1.0447] [G loss: 0.9660] Time: 0:00:02.333313\n",
            "Epoch 399/600 [D loss: 0.9969] [G loss: 0.9149] Time: 0:00:02.525617\n"
          ]
        },
        {
          "output_type": "stream",
          "name": "stderr",
          "text": [
            "WARNING:absl:You are saving your model as an HDF5 file via `model.save()` or `keras.saving.save_model(model)`. This file format is considered legacy. We recommend using instead the native Keras format, e.g. `model.save('my_model.keras')` or `keras.saving.save_model(model, 'my_model.keras')`. \n",
            "WARNING:absl:You are saving your model as an HDF5 file via `model.save()` or `keras.saving.save_model(model)`. This file format is considered legacy. We recommend using instead the native Keras format, e.g. `model.save('my_model.keras')` or `keras.saving.save_model(model, 'my_model.keras')`. \n"
          ]
        },
        {
          "output_type": "stream",
          "name": "stdout",
          "text": [
            "Epoch 400/600 [D loss: 1.1606] [G loss: 0.9561] Time: 0:00:02.380922\n",
            "Epoch 401/600 [D loss: 1.0135] [G loss: 1.1285] Time: 0:00:02.327835\n",
            "Epoch 402/600 [D loss: 1.1420] [G loss: 1.1287] Time: 0:00:02.631895\n",
            "Epoch 403/600 [D loss: 0.9732] [G loss: 1.0562] Time: 0:00:02.328225\n",
            "Epoch 404/600 [D loss: 1.0569] [G loss: 1.0781] Time: 0:00:02.335791\n",
            "Epoch 405/600 [D loss: 1.0391] [G loss: 1.0798] Time: 0:00:02.516823\n",
            "Epoch 406/600 [D loss: 1.2018] [G loss: 0.9833] Time: 0:00:02.322161\n",
            "Epoch 407/600 [D loss: 1.2219] [G loss: 1.0452] Time: 0:00:02.326333\n",
            "Epoch 408/600 [D loss: 1.4150] [G loss: 0.8574] Time: 0:00:02.613646\n",
            "Epoch 409/600 [D loss: 1.1837] [G loss: 0.9882] Time: 0:00:02.326665\n"
          ]
        },
        {
          "output_type": "stream",
          "name": "stderr",
          "text": [
            "WARNING:absl:You are saving your model as an HDF5 file via `model.save()` or `keras.saving.save_model(model)`. This file format is considered legacy. We recommend using instead the native Keras format, e.g. `model.save('my_model.keras')` or `keras.saving.save_model(model, 'my_model.keras')`. \n",
            "WARNING:absl:You are saving your model as an HDF5 file via `model.save()` or `keras.saving.save_model(model)`. This file format is considered legacy. We recommend using instead the native Keras format, e.g. `model.save('my_model.keras')` or `keras.saving.save_model(model, 'my_model.keras')`. \n"
          ]
        },
        {
          "output_type": "stream",
          "name": "stdout",
          "text": [
            "Epoch 410/600 [D loss: 1.0951] [G loss: 1.0849] Time: 0:00:02.382802\n",
            "Epoch 411/600 [D loss: 1.2369] [G loss: 1.1144] Time: 0:00:02.518881\n",
            "Epoch 412/600 [D loss: 1.3024] [G loss: 1.0493] Time: 0:00:02.318450\n",
            "Epoch 413/600 [D loss: 1.1731] [G loss: 1.0280] Time: 0:00:02.320167\n",
            "Epoch 414/600 [D loss: 1.3449] [G loss: 1.0367] Time: 0:00:02.513440\n",
            "Epoch 415/600 [D loss: 1.2076] [G loss: 0.8877] Time: 0:00:02.316014\n",
            "Epoch 416/600 [D loss: 1.2286] [G loss: 0.9890] Time: 0:00:02.321991\n",
            "Epoch 417/600 [D loss: 0.8231] [G loss: 0.9873] Time: 0:00:02.503630\n",
            "Epoch 418/600 [D loss: 1.4665] [G loss: 0.8000] Time: 0:00:02.325349\n",
            "Epoch 419/600 [D loss: 0.9765] [G loss: 1.0855] Time: 0:00:02.323937\n"
          ]
        },
        {
          "output_type": "stream",
          "name": "stderr",
          "text": [
            "WARNING:absl:You are saving your model as an HDF5 file via `model.save()` or `keras.saving.save_model(model)`. This file format is considered legacy. We recommend using instead the native Keras format, e.g. `model.save('my_model.keras')` or `keras.saving.save_model(model, 'my_model.keras')`. \n",
            "WARNING:absl:You are saving your model as an HDF5 file via `model.save()` or `keras.saving.save_model(model)`. This file format is considered legacy. We recommend using instead the native Keras format, e.g. `model.save('my_model.keras')` or `keras.saving.save_model(model, 'my_model.keras')`. \n"
          ]
        },
        {
          "output_type": "stream",
          "name": "stdout",
          "text": [
            "Epoch 420/600 [D loss: 1.1658] [G loss: 1.0865] Time: 0:00:02.589757\n",
            "Epoch 421/600 [D loss: 1.1437] [G loss: 1.0059] Time: 0:00:02.326248\n",
            "Epoch 422/600 [D loss: 1.2024] [G loss: 1.0625] Time: 0:00:02.328640\n",
            "Epoch 423/600 [D loss: 0.9126] [G loss: 1.0876] Time: 0:00:02.527480\n",
            "Epoch 424/600 [D loss: 1.1827] [G loss: 1.0409] Time: 0:00:02.335064\n",
            "Epoch 425/600 [D loss: 1.1174] [G loss: 1.0297] Time: 0:00:02.349045\n",
            "Epoch 426/600 [D loss: 0.9866] [G loss: 1.1606] Time: 0:00:02.537885\n",
            "Epoch 427/600 [D loss: 1.1478] [G loss: 1.0182] Time: 0:00:02.336532\n",
            "Epoch 428/600 [D loss: 1.1063] [G loss: 1.1323] Time: 0:00:02.345737\n",
            "Epoch 429/600 [D loss: 0.8559] [G loss: 1.0022] Time: 0:00:02.643583\n"
          ]
        },
        {
          "output_type": "stream",
          "name": "stderr",
          "text": [
            "WARNING:absl:You are saving your model as an HDF5 file via `model.save()` or `keras.saving.save_model(model)`. This file format is considered legacy. We recommend using instead the native Keras format, e.g. `model.save('my_model.keras')` or `keras.saving.save_model(model, 'my_model.keras')`. \n",
            "WARNING:absl:You are saving your model as an HDF5 file via `model.save()` or `keras.saving.save_model(model)`. This file format is considered legacy. We recommend using instead the native Keras format, e.g. `model.save('my_model.keras')` or `keras.saving.save_model(model, 'my_model.keras')`. \n"
          ]
        },
        {
          "output_type": "stream",
          "name": "stdout",
          "text": [
            "Epoch 430/600 [D loss: 1.0346] [G loss: 1.0426] Time: 0:00:02.419278\n",
            "Epoch 431/600 [D loss: 1.2424] [G loss: 1.0612] Time: 0:00:02.342656\n",
            "Epoch 432/600 [D loss: 1.1502] [G loss: 0.9626] Time: 0:00:02.525055\n",
            "Epoch 433/600 [D loss: 1.5457] [G loss: 1.1183] Time: 0:00:02.342359\n",
            "Epoch 434/600 [D loss: 1.1330] [G loss: 1.1292] Time: 0:00:02.343131\n",
            "Epoch 435/600 [D loss: 1.2052] [G loss: 1.0460] Time: 0:00:02.603823\n",
            "Epoch 436/600 [D loss: 1.3874] [G loss: 1.0287] Time: 0:00:02.337311\n",
            "Epoch 437/600 [D loss: 1.2219] [G loss: 0.9459] Time: 0:00:02.332637\n",
            "Epoch 438/600 [D loss: 0.8348] [G loss: 1.2103] Time: 0:00:02.522600\n",
            "Epoch 439/600 [D loss: 1.0492] [G loss: 1.0942] Time: 0:00:02.324901\n"
          ]
        },
        {
          "output_type": "stream",
          "name": "stderr",
          "text": [
            "WARNING:absl:You are saving your model as an HDF5 file via `model.save()` or `keras.saving.save_model(model)`. This file format is considered legacy. We recommend using instead the native Keras format, e.g. `model.save('my_model.keras')` or `keras.saving.save_model(model, 'my_model.keras')`. \n",
            "WARNING:absl:You are saving your model as an HDF5 file via `model.save()` or `keras.saving.save_model(model)`. This file format is considered legacy. We recommend using instead the native Keras format, e.g. `model.save('my_model.keras')` or `keras.saving.save_model(model, 'my_model.keras')`. \n"
          ]
        },
        {
          "output_type": "stream",
          "name": "stdout",
          "text": [
            "Epoch 440/600 [D loss: 1.3521] [G loss: 1.0228] Time: 0:00:02.406597\n",
            "Epoch 441/600 [D loss: 0.7655] [G loss: 1.0784] Time: 0:00:02.518581\n",
            "Epoch 442/600 [D loss: 1.3488] [G loss: 1.0954] Time: 0:00:02.325995\n",
            "Epoch 443/600 [D loss: 1.0853] [G loss: 0.9958] Time: 0:00:02.324134\n",
            "Epoch 444/600 [D loss: 1.0868] [G loss: 1.0855] Time: 0:00:02.502460\n",
            "Epoch 445/600 [D loss: 1.1772] [G loss: 1.0662] Time: 0:00:02.316309\n",
            "Epoch 446/600 [D loss: 1.1993] [G loss: 1.0360] Time: 0:00:02.320909\n",
            "Epoch 447/600 [D loss: 1.4009] [G loss: 0.9840] Time: 0:00:02.505799\n",
            "Epoch 448/600 [D loss: 1.2513] [G loss: 1.0400] Time: 0:00:02.314887\n",
            "Epoch 449/600 [D loss: 1.1347] [G loss: 1.0638] Time: 0:00:02.314765\n"
          ]
        },
        {
          "output_type": "stream",
          "name": "stderr",
          "text": [
            "WARNING:absl:You are saving your model as an HDF5 file via `model.save()` or `keras.saving.save_model(model)`. This file format is considered legacy. We recommend using instead the native Keras format, e.g. `model.save('my_model.keras')` or `keras.saving.save_model(model, 'my_model.keras')`. \n",
            "WARNING:absl:You are saving your model as an HDF5 file via `model.save()` or `keras.saving.save_model(model)`. This file format is considered legacy. We recommend using instead the native Keras format, e.g. `model.save('my_model.keras')` or `keras.saving.save_model(model, 'my_model.keras')`. \n"
          ]
        },
        {
          "output_type": "stream",
          "name": "stdout",
          "text": [
            "Epoch 450/600 [D loss: 1.0847] [G loss: 1.0982] Time: 0:00:02.566726\n",
            "Epoch 451/600 [D loss: 1.2258] [G loss: 0.9827] Time: 0:00:02.314696\n",
            "Epoch 452/600 [D loss: 1.0605] [G loss: 1.1469] Time: 0:00:02.315076\n",
            "Epoch 453/600 [D loss: 1.2693] [G loss: 0.9061] Time: 0:00:02.518428\n",
            "Epoch 454/600 [D loss: 0.9540] [G loss: 1.0569] Time: 0:00:02.315659\n",
            "Epoch 455/600 [D loss: 1.0982] [G loss: 1.0693] Time: 0:00:02.320105\n",
            "Epoch 456/600 [D loss: 1.0373] [G loss: 1.0908] Time: 0:00:02.602202\n",
            "Epoch 457/600 [D loss: 1.0378] [G loss: 1.0785] Time: 0:00:02.322088\n",
            "Epoch 458/600 [D loss: 1.3802] [G loss: 1.0135] Time: 0:00:02.327380\n",
            "Epoch 459/600 [D loss: 1.1790] [G loss: 1.0718] Time: 0:00:02.520889\n"
          ]
        },
        {
          "output_type": "stream",
          "name": "stderr",
          "text": [
            "WARNING:absl:You are saving your model as an HDF5 file via `model.save()` or `keras.saving.save_model(model)`. This file format is considered legacy. We recommend using instead the native Keras format, e.g. `model.save('my_model.keras')` or `keras.saving.save_model(model, 'my_model.keras')`. \n",
            "WARNING:absl:You are saving your model as an HDF5 file via `model.save()` or `keras.saving.save_model(model)`. This file format is considered legacy. We recommend using instead the native Keras format, e.g. `model.save('my_model.keras')` or `keras.saving.save_model(model, 'my_model.keras')`. \n"
          ]
        },
        {
          "output_type": "stream",
          "name": "stdout",
          "text": [
            "Epoch 460/600 [D loss: 1.2837] [G loss: 0.9841] Time: 0:00:02.382863\n",
            "Epoch 461/600 [D loss: 0.9831] [G loss: 1.1272] Time: 0:00:02.324521\n",
            "Epoch 462/600 [D loss: 1.5688] [G loss: 1.0089] Time: 0:00:02.596878\n",
            "Epoch 463/600 [D loss: 0.9208] [G loss: 1.1678] Time: 0:00:02.333575\n",
            "Epoch 464/600 [D loss: 0.9466] [G loss: 1.1188] Time: 0:00:02.338886\n",
            "Epoch 465/600 [D loss: 0.9441] [G loss: 0.9860] Time: 0:00:02.535934\n",
            "Epoch 466/600 [D loss: 1.0004] [G loss: 1.1143] Time: 0:00:02.337197\n",
            "Epoch 467/600 [D loss: 0.9660] [G loss: 0.9735] Time: 0:00:02.341034\n",
            "Epoch 468/600 [D loss: 1.2749] [G loss: 1.1032] Time: 0:00:02.535340\n",
            "Epoch 469/600 [D loss: 1.1425] [G loss: 1.0804] Time: 0:00:02.335610\n"
          ]
        },
        {
          "output_type": "stream",
          "name": "stderr",
          "text": [
            "WARNING:absl:You are saving your model as an HDF5 file via `model.save()` or `keras.saving.save_model(model)`. This file format is considered legacy. We recommend using instead the native Keras format, e.g. `model.save('my_model.keras')` or `keras.saving.save_model(model, 'my_model.keras')`. \n",
            "WARNING:absl:You are saving your model as an HDF5 file via `model.save()` or `keras.saving.save_model(model)`. This file format is considered legacy. We recommend using instead the native Keras format, e.g. `model.save('my_model.keras')` or `keras.saving.save_model(model, 'my_model.keras')`. \n"
          ]
        },
        {
          "output_type": "stream",
          "name": "stdout",
          "text": [
            "Epoch 470/600 [D loss: 1.1852] [G loss: 0.9566] Time: 0:00:02.409801\n",
            "Epoch 471/600 [D loss: 0.9423] [G loss: 1.1093] Time: 0:00:02.529030\n",
            "Epoch 472/600 [D loss: 1.3133] [G loss: 0.9821] Time: 0:00:02.336000\n",
            "Epoch 473/600 [D loss: 1.2279] [G loss: 1.1018] Time: 0:00:02.338887\n",
            "Epoch 474/600 [D loss: 1.1255] [G loss: 0.9008] Time: 0:00:02.533474\n",
            "Epoch 475/600 [D loss: 1.1036] [G loss: 1.1499] Time: 0:00:02.328954\n",
            "Epoch 476/600 [D loss: 1.1221] [G loss: 1.0896] Time: 0:00:02.331130\n",
            "Epoch 477/600 [D loss: 0.9399] [G loss: 1.2632] Time: 0:00:02.521528\n",
            "Epoch 478/600 [D loss: 1.1500] [G loss: 0.9762] Time: 0:00:02.323540\n",
            "Epoch 479/600 [D loss: 0.9057] [G loss: 1.1137] Time: 0:00:02.325451\n"
          ]
        },
        {
          "output_type": "stream",
          "name": "stderr",
          "text": [
            "WARNING:absl:You are saving your model as an HDF5 file via `model.save()` or `keras.saving.save_model(model)`. This file format is considered legacy. We recommend using instead the native Keras format, e.g. `model.save('my_model.keras')` or `keras.saving.save_model(model, 'my_model.keras')`. \n",
            "WARNING:absl:You are saving your model as an HDF5 file via `model.save()` or `keras.saving.save_model(model)`. This file format is considered legacy. We recommend using instead the native Keras format, e.g. `model.save('my_model.keras')` or `keras.saving.save_model(model, 'my_model.keras')`. \n"
          ]
        },
        {
          "output_type": "stream",
          "name": "stdout",
          "text": [
            "Epoch 480/600 [D loss: 1.2580] [G loss: 0.9425] Time: 0:00:02.588495\n",
            "Epoch 481/600 [D loss: 1.4501] [G loss: 1.0796] Time: 0:00:02.317585\n",
            "Epoch 482/600 [D loss: 1.2729] [G loss: 1.1807] Time: 0:00:02.320167\n",
            "Epoch 483/600 [D loss: 1.1548] [G loss: 1.1128] Time: 0:00:02.597797\n",
            "Epoch 484/600 [D loss: 1.1408] [G loss: 0.9715] Time: 0:00:02.322365\n",
            "Epoch 485/600 [D loss: 0.9929] [G loss: 1.1048] Time: 0:00:02.317495\n",
            "Epoch 486/600 [D loss: 1.4467] [G loss: 1.1517] Time: 0:00:02.508603\n",
            "Epoch 487/600 [D loss: 1.1672] [G loss: 1.0574] Time: 0:00:02.319213\n",
            "Epoch 488/600 [D loss: 0.9271] [G loss: 1.3063] Time: 0:00:02.325652\n",
            "Epoch 489/600 [D loss: 1.2295] [G loss: 1.0597] Time: 0:00:02.596249\n"
          ]
        },
        {
          "output_type": "stream",
          "name": "stderr",
          "text": [
            "WARNING:absl:You are saving your model as an HDF5 file via `model.save()` or `keras.saving.save_model(model)`. This file format is considered legacy. We recommend using instead the native Keras format, e.g. `model.save('my_model.keras')` or `keras.saving.save_model(model, 'my_model.keras')`. \n",
            "WARNING:absl:You are saving your model as an HDF5 file via `model.save()` or `keras.saving.save_model(model)`. This file format is considered legacy. We recommend using instead the native Keras format, e.g. `model.save('my_model.keras')` or `keras.saving.save_model(model, 'my_model.keras')`. \n"
          ]
        },
        {
          "output_type": "stream",
          "name": "stdout",
          "text": [
            "Epoch 490/600 [D loss: 1.0348] [G loss: 1.2176] Time: 0:00:02.378182\n",
            "Epoch 491/600 [D loss: 0.9893] [G loss: 1.2076] Time: 0:00:02.322750\n",
            "Epoch 492/600 [D loss: 1.0502] [G loss: 1.2090] Time: 0:00:04.277455\n",
            "Epoch 493/600 [D loss: 1.3902] [G loss: 0.9940] Time: 0:00:02.380727\n",
            "Epoch 494/600 [D loss: 1.2377] [G loss: 1.1793] Time: 0:00:02.321722\n",
            "Epoch 495/600 [D loss: 1.1317] [G loss: 1.1758] Time: 0:00:02.522063\n",
            "Epoch 496/600 [D loss: 0.9651] [G loss: 1.2056] Time: 0:00:02.326885\n",
            "Epoch 497/600 [D loss: 0.8710] [G loss: 1.1414] Time: 0:00:02.332402\n",
            "Epoch 498/600 [D loss: 1.1735] [G loss: 1.0785] Time: 0:00:02.516699\n",
            "Epoch 499/600 [D loss: 1.2249] [G loss: 1.2481] Time: 0:00:02.336029\n"
          ]
        },
        {
          "output_type": "stream",
          "name": "stderr",
          "text": [
            "WARNING:absl:You are saving your model as an HDF5 file via `model.save()` or `keras.saving.save_model(model)`. This file format is considered legacy. We recommend using instead the native Keras format, e.g. `model.save('my_model.keras')` or `keras.saving.save_model(model, 'my_model.keras')`. \n",
            "WARNING:absl:You are saving your model as an HDF5 file via `model.save()` or `keras.saving.save_model(model)`. This file format is considered legacy. We recommend using instead the native Keras format, e.g. `model.save('my_model.keras')` or `keras.saving.save_model(model, 'my_model.keras')`. \n"
          ]
        },
        {
          "output_type": "stream",
          "name": "stdout",
          "text": [
            "Epoch 500/600 [D loss: 1.1615] [G loss: 1.2192] Time: 0:00:02.394304\n",
            "Epoch 501/600 [D loss: 1.1929] [G loss: 1.0866] Time: 0:00:02.523988\n",
            "Epoch 502/600 [D loss: 1.0746] [G loss: 1.0983] Time: 0:00:02.340680\n",
            "Epoch 503/600 [D loss: 1.0696] [G loss: 1.1139] Time: 0:00:02.343154\n",
            "Epoch 504/600 [D loss: 0.9983] [G loss: 1.0557] Time: 0:00:02.619303\n",
            "Epoch 505/600 [D loss: 1.2559] [G loss: 1.1462] Time: 0:00:02.346445\n",
            "Epoch 506/600 [D loss: 1.1616] [G loss: 1.1945] Time: 0:00:02.345636\n",
            "Epoch 507/600 [D loss: 0.8321] [G loss: 1.2580] Time: 0:00:02.551028\n",
            "Epoch 508/600 [D loss: 1.0156] [G loss: 1.0383] Time: 0:00:02.338815\n",
            "Epoch 509/600 [D loss: 1.0810] [G loss: 0.9802] Time: 0:00:02.342514\n"
          ]
        },
        {
          "output_type": "stream",
          "name": "stderr",
          "text": [
            "WARNING:absl:You are saving your model as an HDF5 file via `model.save()` or `keras.saving.save_model(model)`. This file format is considered legacy. We recommend using instead the native Keras format, e.g. `model.save('my_model.keras')` or `keras.saving.save_model(model, 'my_model.keras')`. \n",
            "WARNING:absl:You are saving your model as an HDF5 file via `model.save()` or `keras.saving.save_model(model)`. This file format is considered legacy. We recommend using instead the native Keras format, e.g. `model.save('my_model.keras')` or `keras.saving.save_model(model, 'my_model.keras')`. \n"
          ]
        },
        {
          "output_type": "stream",
          "name": "stdout",
          "text": [
            "Epoch 510/600 [D loss: 1.2047] [G loss: 1.1209] Time: 0:00:02.730881\n",
            "Epoch 511/600 [D loss: 1.1389] [G loss: 0.9653] Time: 0:00:02.334947\n",
            "Epoch 512/600 [D loss: 1.0899] [G loss: 1.1543] Time: 0:00:02.333044\n",
            "Epoch 513/600 [D loss: 1.1491] [G loss: 1.1370] Time: 0:00:02.514925\n",
            "Epoch 514/600 [D loss: 1.0764] [G loss: 1.0846] Time: 0:00:02.324067\n",
            "Epoch 515/600 [D loss: 1.1668] [G loss: 1.2666] Time: 0:00:02.327991\n",
            "Epoch 516/600 [D loss: 0.9645] [G loss: 1.1322] Time: 0:00:02.512208\n",
            "Epoch 517/600 [D loss: 0.9159] [G loss: 1.0618] Time: 0:00:02.324729\n",
            "Epoch 518/600 [D loss: 1.0682] [G loss: 1.1282] Time: 0:00:02.324740\n",
            "Epoch 519/600 [D loss: 1.1064] [G loss: 1.0209] Time: 0:00:02.536416\n"
          ]
        },
        {
          "output_type": "stream",
          "name": "stderr",
          "text": [
            "WARNING:absl:You are saving your model as an HDF5 file via `model.save()` or `keras.saving.save_model(model)`. This file format is considered legacy. We recommend using instead the native Keras format, e.g. `model.save('my_model.keras')` or `keras.saving.save_model(model, 'my_model.keras')`. \n",
            "WARNING:absl:You are saving your model as an HDF5 file via `model.save()` or `keras.saving.save_model(model)`. This file format is considered legacy. We recommend using instead the native Keras format, e.g. `model.save('my_model.keras')` or `keras.saving.save_model(model, 'my_model.keras')`. \n"
          ]
        },
        {
          "output_type": "stream",
          "name": "stdout",
          "text": [
            "Epoch 520/600 [D loss: 1.0681] [G loss: 1.1456] Time: 0:00:02.410849\n",
            "Epoch 521/600 [D loss: 1.1882] [G loss: 1.2070] Time: 0:00:02.328931\n",
            "Epoch 522/600 [D loss: 1.0757] [G loss: 1.1680] Time: 0:00:02.504958\n",
            "Epoch 523/600 [D loss: 1.3094] [G loss: 1.0191] Time: 0:00:02.317883\n",
            "Epoch 524/600 [D loss: 1.0801] [G loss: 1.1205] Time: 0:00:02.321810\n",
            "Epoch 525/600 [D loss: 1.0621] [G loss: 1.1158] Time: 0:00:02.513709\n",
            "Epoch 526/600 [D loss: 0.8956] [G loss: 1.1063] Time: 0:00:02.314120\n",
            "Epoch 527/600 [D loss: 1.0111] [G loss: 1.1709] Time: 0:00:02.323271\n",
            "Epoch 528/600 [D loss: 1.1671] [G loss: 1.0068] Time: 0:00:02.506742\n",
            "Epoch 529/600 [D loss: 1.1259] [G loss: 1.2073] Time: 0:00:02.318844\n"
          ]
        },
        {
          "output_type": "stream",
          "name": "stderr",
          "text": [
            "WARNING:absl:You are saving your model as an HDF5 file via `model.save()` or `keras.saving.save_model(model)`. This file format is considered legacy. We recommend using instead the native Keras format, e.g. `model.save('my_model.keras')` or `keras.saving.save_model(model, 'my_model.keras')`. \n",
            "WARNING:absl:You are saving your model as an HDF5 file via `model.save()` or `keras.saving.save_model(model)`. This file format is considered legacy. We recommend using instead the native Keras format, e.g. `model.save('my_model.keras')` or `keras.saving.save_model(model, 'my_model.keras')`. \n"
          ]
        },
        {
          "output_type": "stream",
          "name": "stdout",
          "text": [
            "Epoch 530/600 [D loss: 1.4769] [G loss: 0.8584] Time: 0:00:02.385695\n",
            "Epoch 531/600 [D loss: 1.1919] [G loss: 1.0861] Time: 0:00:02.607832\n",
            "Epoch 532/600 [D loss: 1.1987] [G loss: 1.2492] Time: 0:00:02.327371\n",
            "Epoch 533/600 [D loss: 1.1434] [G loss: 1.0697] Time: 0:00:02.329850\n",
            "Epoch 534/600 [D loss: 1.1236] [G loss: 1.2056] Time: 0:00:02.528720\n",
            "Epoch 535/600 [D loss: 0.8262] [G loss: 1.2527] Time: 0:00:02.331143\n",
            "Epoch 536/600 [D loss: 1.2069] [G loss: 1.0779] Time: 0:00:02.336888\n",
            "Epoch 537/600 [D loss: 1.0219] [G loss: 1.2980] Time: 0:00:02.632695\n",
            "Epoch 538/600 [D loss: 1.0931] [G loss: 1.2059] Time: 0:00:02.340465\n",
            "Epoch 539/600 [D loss: 0.9251] [G loss: 1.1059] Time: 0:00:02.335526\n"
          ]
        },
        {
          "output_type": "stream",
          "name": "stderr",
          "text": [
            "WARNING:absl:You are saving your model as an HDF5 file via `model.save()` or `keras.saving.save_model(model)`. This file format is considered legacy. We recommend using instead the native Keras format, e.g. `model.save('my_model.keras')` or `keras.saving.save_model(model, 'my_model.keras')`. \n",
            "WARNING:absl:You are saving your model as an HDF5 file via `model.save()` or `keras.saving.save_model(model)`. This file format is considered legacy. We recommend using instead the native Keras format, e.g. `model.save('my_model.keras')` or `keras.saving.save_model(model, 'my_model.keras')`. \n"
          ]
        },
        {
          "output_type": "stream",
          "name": "stdout",
          "text": [
            "Epoch 540/600 [D loss: 0.8440] [G loss: 1.1183] Time: 0:00:02.590672\n",
            "Epoch 541/600 [D loss: 1.0373] [G loss: 1.2376] Time: 0:00:02.330171\n",
            "Epoch 542/600 [D loss: 1.4500] [G loss: 1.1931] Time: 0:00:02.324750\n",
            "Epoch 543/600 [D loss: 1.0150] [G loss: 1.0938] Time: 0:00:02.509849\n",
            "Epoch 544/600 [D loss: 1.1862] [G loss: 1.1479] Time: 0:00:02.324344\n",
            "Epoch 545/600 [D loss: 0.9862] [G loss: 1.1921] Time: 0:00:02.331761\n",
            "Epoch 546/600 [D loss: 1.1494] [G loss: 1.1741] Time: 0:00:02.528081\n",
            "Epoch 547/600 [D loss: 1.3183] [G loss: 1.0761] Time: 0:00:02.328715\n",
            "Epoch 548/600 [D loss: 1.0367] [G loss: 1.1642] Time: 0:00:02.331947\n",
            "Epoch 549/600 [D loss: 1.3586] [G loss: 1.2219] Time: 0:00:02.539545\n"
          ]
        },
        {
          "output_type": "stream",
          "name": "stderr",
          "text": [
            "WARNING:absl:You are saving your model as an HDF5 file via `model.save()` or `keras.saving.save_model(model)`. This file format is considered legacy. We recommend using instead the native Keras format, e.g. `model.save('my_model.keras')` or `keras.saving.save_model(model, 'my_model.keras')`. \n",
            "WARNING:absl:You are saving your model as an HDF5 file via `model.save()` or `keras.saving.save_model(model)`. This file format is considered legacy. We recommend using instead the native Keras format, e.g. `model.save('my_model.keras')` or `keras.saving.save_model(model, 'my_model.keras')`. \n"
          ]
        },
        {
          "output_type": "stream",
          "name": "stdout",
          "text": [
            "Epoch 550/600 [D loss: 0.9473] [G loss: 1.3067] Time: 0:00:02.388339\n",
            "Epoch 551/600 [D loss: 0.8983] [G loss: 1.1235] Time: 0:00:02.330406\n",
            "Epoch 552/600 [D loss: 0.9489] [G loss: 1.1484] Time: 0:00:02.515499\n",
            "Epoch 553/600 [D loss: 0.9373] [G loss: 1.1176] Time: 0:00:02.331057\n",
            "Epoch 554/600 [D loss: 1.2027] [G loss: 1.2232] Time: 0:00:02.338628\n",
            "Epoch 555/600 [D loss: 1.1519] [G loss: 1.1458] Time: 0:00:02.533807\n",
            "Epoch 556/600 [D loss: 1.3468] [G loss: 1.1653] Time: 0:00:02.327495\n",
            "Epoch 557/600 [D loss: 1.1115] [G loss: 1.2389] Time: 0:00:02.329354\n",
            "Epoch 558/600 [D loss: 1.1750] [G loss: 1.1791] Time: 0:00:02.609057\n",
            "Epoch 559/600 [D loss: 1.0968] [G loss: 1.1290] Time: 0:00:02.327560\n"
          ]
        },
        {
          "output_type": "stream",
          "name": "stderr",
          "text": [
            "WARNING:absl:You are saving your model as an HDF5 file via `model.save()` or `keras.saving.save_model(model)`. This file format is considered legacy. We recommend using instead the native Keras format, e.g. `model.save('my_model.keras')` or `keras.saving.save_model(model, 'my_model.keras')`. \n",
            "WARNING:absl:You are saving your model as an HDF5 file via `model.save()` or `keras.saving.save_model(model)`. This file format is considered legacy. We recommend using instead the native Keras format, e.g. `model.save('my_model.keras')` or `keras.saving.save_model(model, 'my_model.keras')`. \n"
          ]
        },
        {
          "output_type": "stream",
          "name": "stdout",
          "text": [
            "Epoch 560/600 [D loss: 1.0301] [G loss: 1.2472] Time: 0:00:02.382360\n",
            "Epoch 561/600 [D loss: 1.0610] [G loss: 1.0511] Time: 0:00:02.523990\n",
            "Epoch 562/600 [D loss: 1.1493] [G loss: 1.0263] Time: 0:00:02.322679\n",
            "Epoch 563/600 [D loss: 1.1350] [G loss: 1.0184] Time: 0:00:02.325928\n",
            "Epoch 564/600 [D loss: 1.3790] [G loss: 1.0922] Time: 0:00:02.623969\n",
            "Epoch 565/600 [D loss: 0.9788] [G loss: 1.2118] Time: 0:00:02.326587\n",
            "Epoch 566/600 [D loss: 0.9954] [G loss: 1.1240] Time: 0:00:02.319165\n",
            "Epoch 567/600 [D loss: 1.0263] [G loss: 1.3472] Time: 0:00:02.500415\n",
            "Epoch 568/600 [D loss: 1.0110] [G loss: 1.0059] Time: 0:00:02.317567\n",
            "Epoch 569/600 [D loss: 0.9757] [G loss: 1.0899] Time: 0:00:02.320490\n"
          ]
        },
        {
          "output_type": "stream",
          "name": "stderr",
          "text": [
            "WARNING:absl:You are saving your model as an HDF5 file via `model.save()` or `keras.saving.save_model(model)`. This file format is considered legacy. We recommend using instead the native Keras format, e.g. `model.save('my_model.keras')` or `keras.saving.save_model(model, 'my_model.keras')`. \n",
            "WARNING:absl:You are saving your model as an HDF5 file via `model.save()` or `keras.saving.save_model(model)`. This file format is considered legacy. We recommend using instead the native Keras format, e.g. `model.save('my_model.keras')` or `keras.saving.save_model(model, 'my_model.keras')`. \n"
          ]
        },
        {
          "output_type": "stream",
          "name": "stdout",
          "text": [
            "Epoch 570/600 [D loss: 1.2044] [G loss: 1.1141] Time: 0:00:02.572459\n",
            "Epoch 571/600 [D loss: 1.3877] [G loss: 1.3184] Time: 0:00:02.317387\n",
            "Epoch 572/600 [D loss: 1.0623] [G loss: 1.2586] Time: 0:00:02.323973\n",
            "Epoch 573/600 [D loss: 0.9854] [G loss: 1.2344] Time: 0:00:02.515123\n",
            "Epoch 574/600 [D loss: 1.1418] [G loss: 1.3188] Time: 0:00:02.321572\n",
            "Epoch 575/600 [D loss: 1.0767] [G loss: 1.2868] Time: 0:00:02.327027\n",
            "Epoch 576/600 [D loss: 1.1557] [G loss: 1.2584] Time: 0:00:02.515323\n",
            "Epoch 577/600 [D loss: 1.2935] [G loss: 1.2686] Time: 0:00:02.323347\n",
            "Epoch 578/600 [D loss: 1.2546] [G loss: 1.2956] Time: 0:00:02.329382\n",
            "Epoch 579/600 [D loss: 1.0399] [G loss: 1.2947] Time: 0:00:02.521595\n"
          ]
        },
        {
          "output_type": "stream",
          "name": "stderr",
          "text": [
            "WARNING:absl:You are saving your model as an HDF5 file via `model.save()` or `keras.saving.save_model(model)`. This file format is considered legacy. We recommend using instead the native Keras format, e.g. `model.save('my_model.keras')` or `keras.saving.save_model(model, 'my_model.keras')`. \n",
            "WARNING:absl:You are saving your model as an HDF5 file via `model.save()` or `keras.saving.save_model(model)`. This file format is considered legacy. We recommend using instead the native Keras format, e.g. `model.save('my_model.keras')` or `keras.saving.save_model(model, 'my_model.keras')`. \n"
          ]
        },
        {
          "output_type": "stream",
          "name": "stdout",
          "text": [
            "Epoch 580/600 [D loss: 0.9899] [G loss: 1.3726] Time: 0:00:02.405908\n",
            "Epoch 581/600 [D loss: 1.1986] [G loss: 1.2417] Time: 0:00:02.347384\n",
            "Epoch 582/600 [D loss: 1.1135] [G loss: 1.1838] Time: 0:00:02.515598\n",
            "Epoch 583/600 [D loss: 0.9279] [G loss: 1.3074] Time: 0:00:02.331599\n",
            "Epoch 584/600 [D loss: 1.1788] [G loss: 0.9804] Time: 0:00:02.337984\n",
            "Epoch 585/600 [D loss: 1.1388] [G loss: 1.3849] Time: 0:00:02.606519\n",
            "Epoch 586/600 [D loss: 0.8513] [G loss: 1.2439] Time: 0:00:02.335530\n",
            "Epoch 587/600 [D loss: 0.9117] [G loss: 1.3757] Time: 0:00:02.334685\n",
            "Epoch 588/600 [D loss: 1.2604] [G loss: 1.1404] Time: 0:00:02.521578\n",
            "Epoch 589/600 [D loss: 0.8534] [G loss: 1.2814] Time: 0:00:02.330893\n"
          ]
        },
        {
          "output_type": "stream",
          "name": "stderr",
          "text": [
            "WARNING:absl:You are saving your model as an HDF5 file via `model.save()` or `keras.saving.save_model(model)`. This file format is considered legacy. We recommend using instead the native Keras format, e.g. `model.save('my_model.keras')` or `keras.saving.save_model(model, 'my_model.keras')`. \n",
            "WARNING:absl:You are saving your model as an HDF5 file via `model.save()` or `keras.saving.save_model(model)`. This file format is considered legacy. We recommend using instead the native Keras format, e.g. `model.save('my_model.keras')` or `keras.saving.save_model(model, 'my_model.keras')`. \n"
          ]
        },
        {
          "output_type": "stream",
          "name": "stdout",
          "text": [
            "Epoch 590/600 [D loss: 1.1571] [G loss: 1.0303] Time: 0:00:02.418241\n",
            "Epoch 591/600 [D loss: 1.2536] [G loss: 1.2361] Time: 0:00:02.645253\n",
            "Epoch 592/600 [D loss: 1.2504] [G loss: 1.3072] Time: 0:00:02.337127\n",
            "Epoch 593/600 [D loss: 0.8484] [G loss: 1.2387] Time: 0:00:02.329335\n",
            "Epoch 594/600 [D loss: 1.0570] [G loss: 1.2393] Time: 0:00:02.528435\n",
            "Epoch 595/600 [D loss: 0.9316] [G loss: 1.3260] Time: 0:00:02.321716\n",
            "Epoch 596/600 [D loss: 1.1656] [G loss: 1.1609] Time: 0:00:02.330982\n",
            "Epoch 597/600 [D loss: 0.9991] [G loss: 1.2770] Time: 0:00:02.518880\n",
            "Epoch 598/600 [D loss: 0.9565] [G loss: 1.2296] Time: 0:00:02.331902\n",
            "Epoch 599/600 [D loss: 1.0061] [G loss: 1.2798] Time: 0:00:02.330793\n"
          ]
        },
        {
          "output_type": "stream",
          "name": "stderr",
          "text": [
            "WARNING:absl:You are saving your model as an HDF5 file via `model.save()` or `keras.saving.save_model(model)`. This file format is considered legacy. We recommend using instead the native Keras format, e.g. `model.save('my_model.keras')` or `keras.saving.save_model(model, 'my_model.keras')`. \n",
            "WARNING:absl:You are saving your model as an HDF5 file via `model.save()` or `keras.saving.save_model(model)`. This file format is considered legacy. We recommend using instead the native Keras format, e.g. `model.save('my_model.keras')` or `keras.saving.save_model(model, 'my_model.keras')`. \n",
            "WARNING:absl:You are saving your model as an HDF5 file via `model.save()` or `keras.saving.save_model(model)`. This file format is considered legacy. We recommend using instead the native Keras format, e.g. `model.save('my_model.keras')` or `keras.saving.save_model(model, 'my_model.keras')`. \n",
            "WARNING:absl:You are saving your model as an HDF5 file via `model.save()` or `keras.saving.save_model(model)`. This file format is considered legacy. We recommend using instead the native Keras format, e.g. `model.save('my_model.keras')` or `keras.saving.save_model(model, 'my_model.keras')`. \n"
          ]
        },
        {
          "output_type": "stream",
          "name": "stdout",
          "text": [
            "Epoch 600/600 [D loss: 1.1259] [G loss: 1.2137] Time: 0:00:02.603937\n"
          ]
        }
      ],
      "execution_count": 28
    }
  ]
}